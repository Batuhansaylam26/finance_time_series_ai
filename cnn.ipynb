{
 "cells": [
  {
   "cell_type": "code",
   "execution_count": 287,
   "metadata": {},
   "outputs": [],
   "source": [
    "import yfinance as yf\n",
    "import pandas as pd \n",
    "import plotly.graph_objects as go\n",
    "from plotly.subplots import make_subplots\n",
    "import talib.abstract as ta\n",
    "import ta as ta2\n",
    "import tti\n",
    "import yfinance as yf\n",
    "import pandas as pd \n",
    "import sklearn.model_selection as sk\n",
    "import numpy as np\n",
    "from ignite.engine import Engine, Events\n",
    "from ignite.handlers import EarlyStopping\n",
    "import matplotlib.pyplot as plt\n",
    "import scipy.stats as stats\n",
    "import os\n",
    "import random\n",
    "import numpy as np\n",
    "import pandas_datareader.data as web\n",
    "import datetime\n",
    "from sklearn.metrics import accuracy_score, f1_score, mean_absolute_error"
   ]
  },
  {
   "cell_type": "code",
   "execution_count": 288,
   "metadata": {},
   "outputs": [
    {
     "data": {
      "text/plain": [
       "'freddata = web.DataReader([\"DTB4WK\",\"DTB3\",\"DTB6\",\"DGS5\",\"DGS10\",\"DGS3MO\",\"DGS6MO\",\"DGS1\",\"DAAA\",\"DBAA\",\"DCOILWTICO\",\"DCOILBRENTEU\"], \"fred\",start=(pd.Timestamp(\"2023-09-18\")-datetime.timedelta(1))).fillna(method=\"ffill\")\\nfreddata'"
      ]
     },
     "execution_count": 288,
     "metadata": {},
     "output_type": "execute_result"
    }
   ],
   "source": [
    "\"\"\"freddata = web.DataReader([\"DTB4WK\",\"DTB3\",\"DTB6\",\"DGS5\",\"DGS10\",\"DGS3MO\",\"DGS6MO\",\"DGS1\",\"DAAA\",\"DBAA\",\"DCOILWTICO\",\"DCOILBRENTEU\"], \"fred\",start=(pd.Timestamp(\"2023-09-18\")-datetime.timedelta(1))).fillna(method=\"ffill\")\n",
    "freddata\"\"\""
   ]
  },
  {
   "cell_type": "code",
   "execution_count": 289,
   "metadata": {},
   "outputs": [
    {
     "data": {
      "text/plain": [
       "'from copy import deepcopy as dc\\ndef prepareforlstm(df):\\n    df[\"TE1\"]=df[\"DGS10\"]-df[\"DTB4WK\"]\\n    df[\"TE2\"]=df[\"DGS10\"]-df[\"DTB3\"]\\n    df[\"TE3\"]=df[\"DGS10\"]-df[\"DTB6\"]\\n    df[\"TE5\"]=df[\"DTB3\"]-df[\"DTB4WK\"]\\n    df[\"TE6\"]=df[\"DTB6\"]-df[\"DTB4WK\"]\\n    df[\"DE1\"]=df[\"DBAA\"]-df[\"DAAA\"]\\n    df[\"DE2\"]=df[\"DBAA\"]-df[\"DGS10\"]\\n    df[\"DE4\"]=df[\"DBAA\"]-df[\"DTB6\"]\\n    df[\"DE5\"]=df[\"DBAA\"]-df[\"DTB3\"]\\n    df[\"DE6\"]=df[\"DBAA\"]-df[\"DTB4WK\"]\\n    df=dc(df)\\n    df.dropna(inplace=True)\\n    return df\\nfred_change_data=prepareforlstm(freddata)\\nfred_change_data'"
      ]
     },
     "execution_count": 289,
     "metadata": {},
     "output_type": "execute_result"
    }
   ],
   "source": [
    "\"\"\"from copy import deepcopy as dc\n",
    "def prepareforlstm(df):\n",
    "    df[\"TE1\"]=df[\"DGS10\"]-df[\"DTB4WK\"]\n",
    "    df[\"TE2\"]=df[\"DGS10\"]-df[\"DTB3\"]\n",
    "    df[\"TE3\"]=df[\"DGS10\"]-df[\"DTB6\"]\n",
    "    df[\"TE5\"]=df[\"DTB3\"]-df[\"DTB4WK\"]\n",
    "    df[\"TE6\"]=df[\"DTB6\"]-df[\"DTB4WK\"]\n",
    "    df[\"DE1\"]=df[\"DBAA\"]-df[\"DAAA\"]\n",
    "    df[\"DE2\"]=df[\"DBAA\"]-df[\"DGS10\"]\n",
    "    df[\"DE4\"]=df[\"DBAA\"]-df[\"DTB6\"]\n",
    "    df[\"DE5\"]=df[\"DBAA\"]-df[\"DTB3\"]\n",
    "    df[\"DE6\"]=df[\"DBAA\"]-df[\"DTB4WK\"]\n",
    "    df=dc(df)\n",
    "    df.dropna(inplace=True)\n",
    "    return df\n",
    "fred_change_data=prepareforlstm(freddata)\n",
    "fred_change_data\"\"\""
   ]
  },
  {
   "cell_type": "code",
   "execution_count": 290,
   "metadata": {},
   "outputs": [
    {
     "data": {
      "text/plain": [
       "\"freddata2=fred_change_data.copy()\\nfreddata2.index=freddata2.index.strftime('%Y-%m-%d 12:00:00')\\nfreddata2\""
      ]
     },
     "execution_count": 290,
     "metadata": {},
     "output_type": "execute_result"
    }
   ],
   "source": [
    "\"\"\"freddata2=fred_change_data.copy()\n",
    "freddata2.index=freddata2.index.strftime('%Y-%m-%d 12:00:00')\n",
    "freddata2\"\"\""
   ]
  },
  {
   "cell_type": "code",
   "execution_count": 291,
   "metadata": {},
   "outputs": [
    {
     "name": "stdout",
     "output_type": "stream",
     "text": [
      "[*********************100%%**********************]  1 of 1 completed\n",
      "<class 'pandas.core.frame.DataFrame'>\n",
      "DatetimeIndex: 1213 entries, 2018-12-05 to 2023-09-26\n",
      "Data columns (total 21 columns):\n",
      " #   Column      Non-Null Count  Dtype  \n",
      "---  ------      --------------  -----  \n",
      " 0   direction   1213 non-null   int64  \n",
      " 1   momentum    1213 non-null   float64\n",
      " 2   volatility  1213 non-null   float64\n",
      " 3   distance    1213 non-null   float64\n",
      " 4   mom1        1213 non-null   float64\n",
      " 5   mom2        1213 non-null   float64\n",
      " 6   mom3        1213 non-null   float64\n",
      " 7   ema_10      1213 non-null   float64\n",
      " 8   ema_20      1213 non-null   float64\n",
      " 9   ema_50      1213 non-null   float64\n",
      " 10  roc5        1213 non-null   float64\n",
      " 11  roc10       1213 non-null   float64\n",
      " 12  roc15       1213 non-null   float64\n",
      " 13  roc20       1213 non-null   float64\n",
      " 14  close(t-1)  1213 non-null   float64\n",
      " 15  close(t-2)  1213 non-null   float64\n",
      " 16  close(t-3)  1213 non-null   float64\n",
      " 17  close(t-4)  1213 non-null   float64\n",
      " 18  close(t-5)  1213 non-null   float64\n",
      " 19  close(t-6)  1213 non-null   float64\n",
      " 20  close(t-7)  1213 non-null   float64\n",
      "dtypes: float64(20), int64(1)\n",
      "memory usage: 208.5 KB\n"
     ]
    }
   ],
   "source": [
    "data = yf.download('GARAN.IS',period=\"5y\",interval=\"1D\")\n",
    "data=data.rename({\"High\":\"high\",\"Low\":\"low\",\"Close\":\"close\",\"Open\":\"open\",\"Adj Close\":\"adj close\",\"Volume\":\"volume\"},axis=1)\n",
    "\n",
    "\n",
    "data[\"returns\"]=data[\"close\"].pct_change()\n",
    "from copy import deepcopy as dc\n",
    "def prepareforlstm(df,lookback):\n",
    "    df['direction'] = np.sign(df['returns'])\n",
    "    df['momentum'] = df['returns'].rolling(5).mean().shift(1)\n",
    "    df['volatility'] = df['returns'].rolling(20).std().shift(1)\n",
    "    df['direction'] = np.where(df['returns'] > 0, 1, 0)\n",
    "    df['distance'] = (df['close'] - df['close'].rolling(50).mean()).shift(1)\n",
    "    df[\"mom1\"]=ta.MOM(df[\"close\"],1)\n",
    "    df[\"mom1\"]=df[\"mom1\"].shift(1)\n",
    "    df[\"mom2\"]=ta.MOM(df[\"close\"],2)\n",
    "    df[\"mom2\"]=df[\"mom2\"].shift(1)\n",
    "    df[\"mom3\"]=ta.MOM(df[\"close\"],3)\n",
    "    df[\"mom3\"]=df[\"mom3\"].shift(1) \n",
    "    df[\"ema_10\"]=ta.EMA(df[\"close\"],10)\n",
    "    df[\"ema_10\"]=df[\"ema_10\"].shift(1)\n",
    "    df[\"ema_20\"]=ta.EMA(df[\"close\"],20)\n",
    "    df[\"ema_20\"]=df[\"ema_20\"].shift(1)\n",
    "    df[\"ema_50\"]=ta.EMA(df[\"close\"],50)\n",
    "    df[\"ema_50\"]=df[\"ema_50\"].shift(1)\n",
    "    df[\"roc5\"]=ta.ROC(df[\"close\"],5)\n",
    "    df[\"roc5\"]=df[\"roc5\"].shift(1)\n",
    "    df[\"roc10\"]=ta.ROC(df[\"close\"],10)\n",
    "    df[\"roc10\"]=df[\"roc10\"].shift(1)\n",
    "    df[\"roc15\"]=ta.ROC(df[\"close\"],15)\n",
    "    df[\"roc15\"]=df[\"roc15\"].shift(1)\n",
    "    df[\"roc20\"]=ta.ROC(df[\"close\"],20)\n",
    "    df[\"roc20\"]=df[\"roc20\"].shift(1)\n",
    "    df=dc(df)\n",
    "    for i in range(1,lookback+1):\n",
    "        df[f'close(t-{i})']=df[\"close\"].shift(i)\n",
    "    df.dropna(inplace=True)\n",
    "    df.drop([\"low\",\"high\",\"open\",\"adj close\",\"volume\",\"close\",\"returns\"],axis=1,inplace=True)\n",
    "    \n",
    "    return df\n",
    "shifted_df=prepareforlstm(data,7)\n",
    "shifted_df.info()"
   ]
  },
  {
   "cell_type": "code",
   "execution_count": 292,
   "metadata": {},
   "outputs": [
    {
     "data": {
      "text/plain": [
       "'data = yf.download(\\'GARAN.IS\\',period=\"5y\",interval=\"1D\")\\ndata=data.rename({\"High\":\"high\",\"Low\":\"low\",\"Close\":\"close\",\"Open\":\"open\",\"Adj Close\":\"adj close\",\"Volume\":\"volume\"},axis=1)\\n\\n\\ndata[\"returns\"]=data[\"close\"].pct_change()\\nfrom copy import deepcopy as dc\\ndef prepareforlstm(df,lookback):\\n    df[\\'direction\\'] = np.where(np.sign(df[\\'returns\\'])==-1,0,1)\\n    df[\\'momentum\\'] = df[\\'returns\\'].rolling(5).mean().shift(1)\\n    df[\\'volatility\\'] = df[\\'returns\\'].rolling(20).std().shift(1)\\n    df[\\'distance\\'] = (df[\\'close\\'] - df[\\'close\\'].rolling(50).mean()).shift(1)\\n    df=dc(df)\\n    for i in range(1,lookback+1):\\n        df[f\\'returns(t-{i})\\']=df[\"returns\"].shift(i)\\n    df.dropna(inplace=True)\\n    df.drop([\"low\",\"high\",\"open\",\"adj close\",\"volume\",\"close\",\"returns\"],axis=1,inplace=True)\\n    \\n    return df\\nshifted_df=prepareforlstm(data,7)\\nshifted_df.info()'"
      ]
     },
     "execution_count": 292,
     "metadata": {},
     "output_type": "execute_result"
    }
   ],
   "source": [
    "\"\"\"data = yf.download('GARAN.IS',period=\"5y\",interval=\"1D\")\n",
    "data=data.rename({\"High\":\"high\",\"Low\":\"low\",\"Close\":\"close\",\"Open\":\"open\",\"Adj Close\":\"adj close\",\"Volume\":\"volume\"},axis=1)\n",
    "\n",
    "\n",
    "data[\"returns\"]=data[\"close\"].pct_change()\n",
    "from copy import deepcopy as dc\n",
    "def prepareforlstm(df,lookback):\n",
    "    df['direction'] = np.where(np.sign(df['returns'])==-1,0,1)\n",
    "    df['momentum'] = df['returns'].rolling(5).mean().shift(1)\n",
    "    df['volatility'] = df['returns'].rolling(20).std().shift(1)\n",
    "    df['distance'] = (df['close'] - df['close'].rolling(50).mean()).shift(1)\n",
    "    df=dc(df)\n",
    "    for i in range(1,lookback+1):\n",
    "        df[f'returns(t-{i})']=df[\"returns\"].shift(i)\n",
    "    df.dropna(inplace=True)\n",
    "    df.drop([\"low\",\"high\",\"open\",\"adj close\",\"volume\",\"close\",\"returns\"],axis=1,inplace=True)\n",
    "    \n",
    "    return df\n",
    "shifted_df=prepareforlstm(data,7)\n",
    "shifted_df.info()\"\"\""
   ]
  },
  {
   "cell_type": "code",
   "execution_count": 293,
   "metadata": {},
   "outputs": [
    {
     "data": {
      "text/html": [
       "<div>\n",
       "<style scoped>\n",
       "    .dataframe tbody tr th:only-of-type {\n",
       "        vertical-align: middle;\n",
       "    }\n",
       "\n",
       "    .dataframe tbody tr th {\n",
       "        vertical-align: top;\n",
       "    }\n",
       "\n",
       "    .dataframe thead th {\n",
       "        text-align: right;\n",
       "    }\n",
       "</style>\n",
       "<table border=\"1\" class=\"dataframe\">\n",
       "  <thead>\n",
       "    <tr style=\"text-align: right;\">\n",
       "      <th></th>\n",
       "      <th>direction</th>\n",
       "      <th>momentum</th>\n",
       "      <th>volatility</th>\n",
       "      <th>distance</th>\n",
       "      <th>mom1</th>\n",
       "      <th>mom2</th>\n",
       "      <th>mom3</th>\n",
       "      <th>ema_10</th>\n",
       "      <th>ema_20</th>\n",
       "      <th>ema_50</th>\n",
       "      <th>...</th>\n",
       "      <th>roc10</th>\n",
       "      <th>roc15</th>\n",
       "      <th>roc20</th>\n",
       "      <th>close(t-1)</th>\n",
       "      <th>close(t-2)</th>\n",
       "      <th>close(t-3)</th>\n",
       "      <th>close(t-4)</th>\n",
       "      <th>close(t-5)</th>\n",
       "      <th>close(t-6)</th>\n",
       "      <th>close(t-7)</th>\n",
       "    </tr>\n",
       "    <tr>\n",
       "      <th>Date</th>\n",
       "      <th></th>\n",
       "      <th></th>\n",
       "      <th></th>\n",
       "      <th></th>\n",
       "      <th></th>\n",
       "      <th></th>\n",
       "      <th></th>\n",
       "      <th></th>\n",
       "      <th></th>\n",
       "      <th></th>\n",
       "      <th></th>\n",
       "      <th></th>\n",
       "      <th></th>\n",
       "      <th></th>\n",
       "      <th></th>\n",
       "      <th></th>\n",
       "      <th></th>\n",
       "      <th></th>\n",
       "      <th></th>\n",
       "      <th></th>\n",
       "      <th></th>\n",
       "    </tr>\n",
       "  </thead>\n",
       "  <tbody>\n",
       "    <tr>\n",
       "      <th>2018-12-05</th>\n",
       "      <td>0</td>\n",
       "      <td>0.004662</td>\n",
       "      <td>0.017724</td>\n",
       "      <td>0.455400</td>\n",
       "      <td>-0.170000</td>\n",
       "      <td>-0.220000</td>\n",
       "      <td>-0.060000</td>\n",
       "      <td>8.056265</td>\n",
       "      <td>7.943318</td>\n",
       "      <td>7.584600</td>\n",
       "      <td>...</td>\n",
       "      <td>1.515150</td>\n",
       "      <td>2.290074</td>\n",
       "      <td>1.132077</td>\n",
       "      <td>8.040000</td>\n",
       "      <td>8.210000</td>\n",
       "      <td>8.260000</td>\n",
       "      <td>8.100000</td>\n",
       "      <td>7.950000</td>\n",
       "      <td>7.860000</td>\n",
       "      <td>8.080000</td>\n",
       "    </tr>\n",
       "    <tr>\n",
       "      <th>2018-12-06</th>\n",
       "      <td>0</td>\n",
       "      <td>-0.003847</td>\n",
       "      <td>0.018789</td>\n",
       "      <td>0.194000</td>\n",
       "      <td>-0.250000</td>\n",
       "      <td>-0.420000</td>\n",
       "      <td>-0.470000</td>\n",
       "      <td>8.007853</td>\n",
       "      <td>7.928716</td>\n",
       "      <td>7.592655</td>\n",
       "      <td>...</td>\n",
       "      <td>-2.988789</td>\n",
       "      <td>-2.258467</td>\n",
       "      <td>-3.349881</td>\n",
       "      <td>7.790000</td>\n",
       "      <td>8.040000</td>\n",
       "      <td>8.210000</td>\n",
       "      <td>8.260000</td>\n",
       "      <td>8.100000</td>\n",
       "      <td>7.950000</td>\n",
       "      <td>7.860000</td>\n",
       "    </tr>\n",
       "    <tr>\n",
       "      <th>2018-12-07</th>\n",
       "      <td>1</td>\n",
       "      <td>-0.009161</td>\n",
       "      <td>0.018482</td>\n",
       "      <td>0.130400</td>\n",
       "      <td>-0.060000</td>\n",
       "      <td>-0.310000</td>\n",
       "      <td>-0.480000</td>\n",
       "      <td>7.957334</td>\n",
       "      <td>7.909791</td>\n",
       "      <td>7.598041</td>\n",
       "      <td>...</td>\n",
       "      <td>-2.889447</td>\n",
       "      <td>-1.277138</td>\n",
       "      <td>-2.398991</td>\n",
       "      <td>7.730000</td>\n",
       "      <td>7.790000</td>\n",
       "      <td>8.040000</td>\n",
       "      <td>8.210000</td>\n",
       "      <td>8.260000</td>\n",
       "      <td>8.100000</td>\n",
       "      <td>7.950000</td>\n",
       "    </tr>\n",
       "    <tr>\n",
       "      <th>2018-12-10</th>\n",
       "      <td>0</td>\n",
       "      <td>-0.006902</td>\n",
       "      <td>0.019589</td>\n",
       "      <td>0.365600</td>\n",
       "      <td>0.240000</td>\n",
       "      <td>0.180000</td>\n",
       "      <td>-0.070000</td>\n",
       "      <td>7.959637</td>\n",
       "      <td>7.915525</td>\n",
       "      <td>7.612628</td>\n",
       "      <td>...</td>\n",
       "      <td>-1.116633</td>\n",
       "      <td>0.377830</td>\n",
       "      <td>1.918154</td>\n",
       "      <td>7.970000</td>\n",
       "      <td>7.730000</td>\n",
       "      <td>7.790000</td>\n",
       "      <td>8.040000</td>\n",
       "      <td>8.210000</td>\n",
       "      <td>8.260000</td>\n",
       "      <td>8.100000</td>\n",
       "    </tr>\n",
       "    <tr>\n",
       "      <th>2018-12-11</th>\n",
       "      <td>0</td>\n",
       "      <td>-0.008702</td>\n",
       "      <td>0.019311</td>\n",
       "      <td>0.235800</td>\n",
       "      <td>-0.120000</td>\n",
       "      <td>0.120000</td>\n",
       "      <td>0.060000</td>\n",
       "      <td>7.939703</td>\n",
       "      <td>7.909285</td>\n",
       "      <td>7.621936</td>\n",
       "      <td>...</td>\n",
       "      <td>-2.846535</td>\n",
       "      <td>-3.205916</td>\n",
       "      <td>2.480419</td>\n",
       "      <td>7.850000</td>\n",
       "      <td>7.970000</td>\n",
       "      <td>7.730000</td>\n",
       "      <td>7.790000</td>\n",
       "      <td>8.040000</td>\n",
       "      <td>8.210000</td>\n",
       "      <td>8.260000</td>\n",
       "    </tr>\n",
       "    <tr>\n",
       "      <th>...</th>\n",
       "      <td>...</td>\n",
       "      <td>...</td>\n",
       "      <td>...</td>\n",
       "      <td>...</td>\n",
       "      <td>...</td>\n",
       "      <td>...</td>\n",
       "      <td>...</td>\n",
       "      <td>...</td>\n",
       "      <td>...</td>\n",
       "      <td>...</td>\n",
       "      <td>...</td>\n",
       "      <td>...</td>\n",
       "      <td>...</td>\n",
       "      <td>...</td>\n",
       "      <td>...</td>\n",
       "      <td>...</td>\n",
       "      <td>...</td>\n",
       "      <td>...</td>\n",
       "      <td>...</td>\n",
       "      <td>...</td>\n",
       "      <td>...</td>\n",
       "    </tr>\n",
       "    <tr>\n",
       "      <th>2023-09-20</th>\n",
       "      <td>1</td>\n",
       "      <td>0.002087</td>\n",
       "      <td>0.028738</td>\n",
       "      <td>2.966199</td>\n",
       "      <td>0.450001</td>\n",
       "      <td>0.049999</td>\n",
       "      <td>-0.549999</td>\n",
       "      <td>50.357463</td>\n",
       "      <td>50.348444</td>\n",
       "      <td>46.661050</td>\n",
       "      <td>...</td>\n",
       "      <td>-3.564552</td>\n",
       "      <td>-5.118485</td>\n",
       "      <td>0.623236</td>\n",
       "      <td>50.049999</td>\n",
       "      <td>49.599998</td>\n",
       "      <td>50.000000</td>\n",
       "      <td>50.599998</td>\n",
       "      <td>49.160000</td>\n",
       "      <td>49.560001</td>\n",
       "      <td>50.250000</td>\n",
       "    </tr>\n",
       "    <tr>\n",
       "      <th>2023-09-21</th>\n",
       "      <td>1</td>\n",
       "      <td>0.009496</td>\n",
       "      <td>0.029290</td>\n",
       "      <td>4.087800</td>\n",
       "      <td>1.450001</td>\n",
       "      <td>1.900002</td>\n",
       "      <td>1.500000</td>\n",
       "      <td>50.565197</td>\n",
       "      <td>50.458116</td>\n",
       "      <td>46.850812</td>\n",
       "      <td>...</td>\n",
       "      <td>0.097180</td>\n",
       "      <td>0.194550</td>\n",
       "      <td>4.589761</td>\n",
       "      <td>51.500000</td>\n",
       "      <td>50.049999</td>\n",
       "      <td>49.599998</td>\n",
       "      <td>50.000000</td>\n",
       "      <td>50.599998</td>\n",
       "      <td>49.160000</td>\n",
       "      <td>49.560001</td>\n",
       "    </tr>\n",
       "    <tr>\n",
       "      <th>2023-09-22</th>\n",
       "      <td>0</td>\n",
       "      <td>0.005579</td>\n",
       "      <td>0.029327</td>\n",
       "      <td>4.296600</td>\n",
       "      <td>0.500000</td>\n",
       "      <td>1.950001</td>\n",
       "      <td>2.400002</td>\n",
       "      <td>50.826070</td>\n",
       "      <td>50.604962</td>\n",
       "      <td>47.052741</td>\n",
       "      <td>...</td>\n",
       "      <td>-0.763362</td>\n",
       "      <td>3.585656</td>\n",
       "      <td>5.050505</td>\n",
       "      <td>52.000000</td>\n",
       "      <td>51.500000</td>\n",
       "      <td>50.049999</td>\n",
       "      <td>49.599998</td>\n",
       "      <td>50.000000</td>\n",
       "      <td>50.599998</td>\n",
       "      <td>49.160000</td>\n",
       "    </tr>\n",
       "    <tr>\n",
       "      <th>2023-09-25</th>\n",
       "      <td>1</td>\n",
       "      <td>0.003335</td>\n",
       "      <td>0.018948</td>\n",
       "      <td>2.870599</td>\n",
       "      <td>-1.200001</td>\n",
       "      <td>-0.700001</td>\n",
       "      <td>0.750000</td>\n",
       "      <td>50.821330</td>\n",
       "      <td>50.623537</td>\n",
       "      <td>47.199693</td>\n",
       "      <td>...</td>\n",
       "      <td>-2.868069</td>\n",
       "      <td>-0.098327</td>\n",
       "      <td>-6.703400</td>\n",
       "      <td>50.799999</td>\n",
       "      <td>52.000000</td>\n",
       "      <td>51.500000</td>\n",
       "      <td>50.049999</td>\n",
       "      <td>49.599998</td>\n",
       "      <td>50.000000</td>\n",
       "      <td>50.599998</td>\n",
       "    </tr>\n",
       "    <tr>\n",
       "      <th>2023-09-26</th>\n",
       "      <td>0</td>\n",
       "      <td>0.007888</td>\n",
       "      <td>0.018707</td>\n",
       "      <td>3.359599</td>\n",
       "      <td>0.750000</td>\n",
       "      <td>-0.450001</td>\n",
       "      <td>0.049999</td>\n",
       "      <td>50.953815</td>\n",
       "      <td>50.711771</td>\n",
       "      <td>47.370293</td>\n",
       "      <td>...</td>\n",
       "      <td>2.587063</td>\n",
       "      <td>0.585364</td>\n",
       "      <td>-3.010352</td>\n",
       "      <td>51.549999</td>\n",
       "      <td>50.799999</td>\n",
       "      <td>52.000000</td>\n",
       "      <td>51.500000</td>\n",
       "      <td>50.049999</td>\n",
       "      <td>49.599998</td>\n",
       "      <td>50.000000</td>\n",
       "    </tr>\n",
       "  </tbody>\n",
       "</table>\n",
       "<p>1213 rows × 21 columns</p>\n",
       "</div>"
      ],
      "text/plain": [
       "            direction  momentum  volatility  distance      mom1      mom2  \\\n",
       "Date                                                                        \n",
       "2018-12-05          0  0.004662    0.017724  0.455400 -0.170000 -0.220000   \n",
       "2018-12-06          0 -0.003847    0.018789  0.194000 -0.250000 -0.420000   \n",
       "2018-12-07          1 -0.009161    0.018482  0.130400 -0.060000 -0.310000   \n",
       "2018-12-10          0 -0.006902    0.019589  0.365600  0.240000  0.180000   \n",
       "2018-12-11          0 -0.008702    0.019311  0.235800 -0.120000  0.120000   \n",
       "...               ...       ...         ...       ...       ...       ...   \n",
       "2023-09-20          1  0.002087    0.028738  2.966199  0.450001  0.049999   \n",
       "2023-09-21          1  0.009496    0.029290  4.087800  1.450001  1.900002   \n",
       "2023-09-22          0  0.005579    0.029327  4.296600  0.500000  1.950001   \n",
       "2023-09-25          1  0.003335    0.018948  2.870599 -1.200001 -0.700001   \n",
       "2023-09-26          0  0.007888    0.018707  3.359599  0.750000 -0.450001   \n",
       "\n",
       "                mom3     ema_10     ema_20     ema_50  ...     roc10  \\\n",
       "Date                                                   ...             \n",
       "2018-12-05 -0.060000   8.056265   7.943318   7.584600  ...  1.515150   \n",
       "2018-12-06 -0.470000   8.007853   7.928716   7.592655  ... -2.988789   \n",
       "2018-12-07 -0.480000   7.957334   7.909791   7.598041  ... -2.889447   \n",
       "2018-12-10 -0.070000   7.959637   7.915525   7.612628  ... -1.116633   \n",
       "2018-12-11  0.060000   7.939703   7.909285   7.621936  ... -2.846535   \n",
       "...              ...        ...        ...        ...  ...       ...   \n",
       "2023-09-20 -0.549999  50.357463  50.348444  46.661050  ... -3.564552   \n",
       "2023-09-21  1.500000  50.565197  50.458116  46.850812  ...  0.097180   \n",
       "2023-09-22  2.400002  50.826070  50.604962  47.052741  ... -0.763362   \n",
       "2023-09-25  0.750000  50.821330  50.623537  47.199693  ... -2.868069   \n",
       "2023-09-26  0.049999  50.953815  50.711771  47.370293  ...  2.587063   \n",
       "\n",
       "               roc15     roc20  close(t-1)  close(t-2)  close(t-3)  \\\n",
       "Date                                                                 \n",
       "2018-12-05  2.290074  1.132077    8.040000    8.210000    8.260000   \n",
       "2018-12-06 -2.258467 -3.349881    7.790000    8.040000    8.210000   \n",
       "2018-12-07 -1.277138 -2.398991    7.730000    7.790000    8.040000   \n",
       "2018-12-10  0.377830  1.918154    7.970000    7.730000    7.790000   \n",
       "2018-12-11 -3.205916  2.480419    7.850000    7.970000    7.730000   \n",
       "...              ...       ...         ...         ...         ...   \n",
       "2023-09-20 -5.118485  0.623236   50.049999   49.599998   50.000000   \n",
       "2023-09-21  0.194550  4.589761   51.500000   50.049999   49.599998   \n",
       "2023-09-22  3.585656  5.050505   52.000000   51.500000   50.049999   \n",
       "2023-09-25 -0.098327 -6.703400   50.799999   52.000000   51.500000   \n",
       "2023-09-26  0.585364 -3.010352   51.549999   50.799999   52.000000   \n",
       "\n",
       "            close(t-4)  close(t-5)  close(t-6)  close(t-7)  \n",
       "Date                                                        \n",
       "2018-12-05    8.100000    7.950000    7.860000    8.080000  \n",
       "2018-12-06    8.260000    8.100000    7.950000    7.860000  \n",
       "2018-12-07    8.210000    8.260000    8.100000    7.950000  \n",
       "2018-12-10    8.040000    8.210000    8.260000    8.100000  \n",
       "2018-12-11    7.790000    8.040000    8.210000    8.260000  \n",
       "...                ...         ...         ...         ...  \n",
       "2023-09-20   50.599998   49.160000   49.560001   50.250000  \n",
       "2023-09-21   50.000000   50.599998   49.160000   49.560001  \n",
       "2023-09-22   49.599998   50.000000   50.599998   49.160000  \n",
       "2023-09-25   50.049999   49.599998   50.000000   50.599998  \n",
       "2023-09-26   51.500000   50.049999   49.599998   50.000000  \n",
       "\n",
       "[1213 rows x 21 columns]"
      ]
     },
     "execution_count": 293,
     "metadata": {},
     "output_type": "execute_result"
    }
   ],
   "source": [
    "shifted_df"
   ]
  },
  {
   "cell_type": "code",
   "execution_count": 294,
   "metadata": {},
   "outputs": [
    {
     "data": {
      "text/plain": [
       "\"data2=data.copy()\\ndata2.index=data.index.strftime('%Y-%m-%d %H:%M:%S')\\ndata2\""
      ]
     },
     "execution_count": 294,
     "metadata": {},
     "output_type": "execute_result"
    }
   ],
   "source": [
    "\"\"\"data2=data.copy()\n",
    "data2.index=data.index.strftime('%Y-%m-%d %H:%M:%S')\n",
    "data2\"\"\""
   ]
  },
  {
   "cell_type": "code",
   "execution_count": 295,
   "metadata": {},
   "outputs": [
    {
     "data": {
      "text/plain": [
       "'data3=pd.concat([data2,freddata2],axis=\"columns\").fillna(method=\"ffill\").dropna()'"
      ]
     },
     "execution_count": 295,
     "metadata": {},
     "output_type": "execute_result"
    }
   ],
   "source": [
    "\"\"\"data3=pd.concat([data2,freddata2],axis=\"columns\").fillna(method=\"ffill\").dropna()\"\"\""
   ]
  },
  {
   "cell_type": "code",
   "execution_count": 296,
   "metadata": {},
   "outputs": [],
   "source": [
    "import tensorflow as tf\n",
    "from keras.models import Sequential\n",
    "from keras.layers import Dense,Conv1D,MaxPooling1D,Flatten,Convolution1D,Dropout,MaxPooling2D,Conv2D,LeakyReLU\n",
    "from tensorflow.keras.optimizers.legacy import Adam\n",
    "from keras.utils import to_categorical\n"
   ]
  },
  {
   "cell_type": "code",
   "execution_count": 297,
   "metadata": {},
   "outputs": [
    {
     "name": "stdout",
     "output_type": "stream",
     "text": [
      "[PhysicalDevice(name='/physical_device:GPU:0', device_type='GPU')]\n"
     ]
    }
   ],
   "source": [
    "print(tf.config.list_physical_devices('GPU'))"
   ]
  },
  {
   "cell_type": "code",
   "execution_count": 298,
   "metadata": {},
   "outputs": [
    {
     "data": {
      "text/plain": [
       "'\\n\\nshifted_df2\\nsplit_index=int(len(shifted_df2)*0.80)\\nsplit_index2=int(len(shifted_df2)*0.90)\\nx_train=np.array(shifted_df2.iloc[:split_index,1:]).reshape(-1,shifted_df2.shape[1]-1,1)\\nx_val=np.array(shifted_df2.iloc[split_index:split_index2,1:]).reshape(-1,shifted_df2.shape[1]-1,1)\\nx_test=np.array(shifted_df2.iloc[split_index2:,1:]).reshape(-1,shifted_df2.shape[1]-1,1)\\ny_train=np.array(shifted_df2.iloc[:split_index,0]).reshape(-1,1)\\ny_val=np.array(shifted_df2.iloc[split_index:split_index2,0]).reshape(-1,1)\\ny_test=np.array(shifted_df2.iloc[split_index2:,0]).reshape(-1,1)\\ndef set_seeds(seed=100):\\n    random.seed(seed)\\n    np.random.seed(seed)\\n\\nn_steps = x_train.shape[1]\\nn_features = x_train.shape[2]\\ngpu_device = tf.config.list_physical_devices(\\'GPU\\')[0]\\n\\nwith tf.device(\\'/GPU:0\\'):\\n    set_seeds()\\n    model = Sequential()\\n    model.add(Dense(64, activation=\\'relu\\', input_shape=(n_steps, )))\\n    model.add(Dense(64, activation=\\'relu\\'))\\n    model.add(Dense(1,activation=\\'sigmoid\\'))\\n\\nn_steps = x_train.shape[1]\\nn_features = x_train.shape[2]\\ngpu_device = tf.config.list_physical_devices(\\'GPU\\')[0]\\n\\nwith tf.device(\\'/GPU:0\\'):\\n    set_seeds()\\n    model = Sequential()\\n    model.add(Conv1D(16, 2, activation=\\'relu\\',input_shape=x_train.shape))\\n    model.add(MaxPooling1D(pool_size=2))\\n    model.add(Flatten())\\n    model.add(Dense(64, activation=\\'relu\\'))\\n    model.add(Dense(1,activation=\\'softmax\\'))\\noptimizer = Adam(learning_rate=0.0001)\\nmodel.compile(optimizer=optimizer,loss=\\'categorical_crossentropy\\',metrics=[\\'accuracy\\'])\\nmodel.fit(x_train,y_train, verbose=0,validation_data=(x_val,y_val), shuffle=False,batch_size=16,epochs=20)\\nmodel.evaluate(x_train,y_train)\\npred = np.where(model.predict(x_test) > 0.5, 1, 0)\\npredict=model.predict(x_test)\\ntest=shifted_df2.iloc[split_index2:,:]\\ntest[\\'prediction\\'] = np.where(pred > 0, 1, -1)\\ntest\\nhits = pd.DataFrame(np.sign(test[\"direction\"]*test[\"prediction\"])).value_counts()\\nhits\\nplt.plot(test[\"direction\"],label=\"Actual\")\\nplt.plot(test[\"prediction\"],label=\\'predicted\\')\\nplt.xlabel(\"Time\")\\nplt.ylabel(\"Close\")\\nplt.legend()\\nplt.show()'"
      ]
     },
     "execution_count": 298,
     "metadata": {},
     "output_type": "execute_result"
    }
   ],
   "source": [
    "\"\"\"\n",
    "\n",
    "shifted_df2\n",
    "split_index=int(len(shifted_df2)*0.80)\n",
    "split_index2=int(len(shifted_df2)*0.90)\n",
    "x_train=np.array(shifted_df2.iloc[:split_index,1:]).reshape(-1,shifted_df2.shape[1]-1,1)\n",
    "x_val=np.array(shifted_df2.iloc[split_index:split_index2,1:]).reshape(-1,shifted_df2.shape[1]-1,1)\n",
    "x_test=np.array(shifted_df2.iloc[split_index2:,1:]).reshape(-1,shifted_df2.shape[1]-1,1)\n",
    "y_train=np.array(shifted_df2.iloc[:split_index,0]).reshape(-1,1)\n",
    "y_val=np.array(shifted_df2.iloc[split_index:split_index2,0]).reshape(-1,1)\n",
    "y_test=np.array(shifted_df2.iloc[split_index2:,0]).reshape(-1,1)\n",
    "def set_seeds(seed=100):\n",
    "    random.seed(seed)\n",
    "    np.random.seed(seed)\n",
    "\n",
    "n_steps = x_train.shape[1]\n",
    "n_features = x_train.shape[2]\n",
    "gpu_device = tf.config.list_physical_devices('GPU')[0]\n",
    "\n",
    "with tf.device('/GPU:0'):\n",
    "    set_seeds()\n",
    "    model = Sequential()\n",
    "    model.add(Dense(64, activation='relu', input_shape=(n_steps, )))\n",
    "    model.add(Dense(64, activation='relu'))\n",
    "    model.add(Dense(1,activation='sigmoid'))\n",
    "\n",
    "n_steps = x_train.shape[1]\n",
    "n_features = x_train.shape[2]\n",
    "gpu_device = tf.config.list_physical_devices('GPU')[0]\n",
    "\n",
    "with tf.device('/GPU:0'):\n",
    "    set_seeds()\n",
    "    model = Sequential()\n",
    "    model.add(Conv1D(16, 2, activation='relu',input_shape=x_train.shape))\n",
    "    model.add(MaxPooling1D(pool_size=2))\n",
    "    model.add(Flatten())\n",
    "    model.add(Dense(64, activation='relu'))\n",
    "    model.add(Dense(1,activation='softmax'))\n",
    "optimizer = Adam(learning_rate=0.0001)\n",
    "model.compile(optimizer=optimizer,loss='categorical_crossentropy',metrics=['accuracy'])\n",
    "model.fit(x_train,y_train, verbose=0,validation_data=(x_val,y_val), shuffle=False,batch_size=16,epochs=20)\n",
    "model.evaluate(x_train,y_train)\n",
    "pred = np.where(model.predict(x_test) > 0.5, 1, 0)\n",
    "predict=model.predict(x_test)\n",
    "test=shifted_df2.iloc[split_index2:,:]\n",
    "test['prediction'] = np.where(pred > 0, 1, -1)\n",
    "test\n",
    "hits = pd.DataFrame(np.sign(test[\"direction\"]*test[\"prediction\"])).value_counts()\n",
    "hits\n",
    "plt.plot(test[\"direction\"],label=\"Actual\")\n",
    "plt.plot(test[\"prediction\"],label='predicted')\n",
    "plt.xlabel(\"Time\")\n",
    "plt.ylabel(\"Close\")\n",
    "plt.legend()\n",
    "plt.show()\"\"\""
   ]
  },
  {
   "cell_type": "code",
   "execution_count": 299,
   "metadata": {},
   "outputs": [
    {
     "data": {
      "text/plain": [
       "'from sklearn.preprocessing import MinMaxScaler,StandardScaler\\nscalar=StandardScaler()\\nshifted_df_as_np=scalar.fit_transform(shifted_df)\\n\\nshifted_df2=pd.DataFrame(shifted_df_as_np,columns=shifted_df.columns.tolist(),index=shifted_df.index)\\nsplit_index=int(len(shifted_df2)*0.80)\\nsplit_index2=int(len(shifted_df2)*0.90)\\nx_train=np.array(shifted_df2.iloc[:split_index,1:]).reshape(-1,shifted_df2.shape[1]-1,1)\\nx_val=np.array(shifted_df2.iloc[split_index:split_index2,1:]).reshape(-1,shifted_df2.shape[1]-1,1)\\nx_test=np.array(shifted_df2.iloc[split_index2:,1:]).reshape(-1,shifted_df2.shape[1]-1,1)\\ny_train=np.array(shifted_df2.iloc[:split_index,0]).reshape(-1,1)\\ny_val=np.array(shifted_df2.iloc[split_index:split_index2,0]).reshape(-1,1)\\ny_test=np.array(shifted_df2.iloc[split_index2:,0]).reshape(-1,1)\\ndef set_seeds(seed=100):\\n    random.seed(seed)\\n    np.random.seed(seed)\\n\\n\\n\\n\\n\\n\\n\\nwith tf.device(\\'/GPU:0\\'):\\n    set_seeds()\\n    model = Sequential()\\n    model.add(Conv1D(16, x_train.shape[1], activation=\\'relu\\',input_shape=x_train.shape))\\n    model.add(Conv1D(16, 3, activation=\\'relu\\'))\\n    model.add(MaxPooling1D(pool_size=2))\\n    model.add(Conv1D(16, 3, activation=\\'relu\\'))\\n    model.add(MaxPooling1D(pool_size=2))\\n    model.add(Flatten())\\n    Dropout(0.1)\\n    model.add(Dense(64, activation=\\'relu\\'))\\n    model.add(Dense(1,activation=\\'sigmoid\\'))\\noptimizer = Adam(learning_rate=0.001)\\nmodel.compile(optimizer=optimizer,loss=\\'binary_crossentropy\\',metrics=[\\'accuracy\\'])\\nmodel.fit(x_train,y_train, verbose=0,shuffle=0,validation_data=(x_val,y_val),batch_size=16,epochs=30)\\nmodel.evaluate(x_train,y_train)\\npred = np.where(model.predict(x_test) > 0.5, 1, 0)\\npredict=model.predict(x_test)\\ntest=shifted_df2.iloc[split_index2:,:]\\ntest[\\'prediction\\'] = np.where(pred > 0, 1, -1)\\ntest\\nhits = pd.DataFrame(np.sign(test[\"direction\"]*test[\"prediction\"])).value_counts()\\nhits\\nplt.plot(test[\"direction\"],label=\"Actual\")\\nplt.plot(test[\"prediction\"],label=\\'predicted\\')\\nplt.xlabel(\"Time\")\\nplt.ylabel(\"Close\")\\nplt.legend()\\nplt.show()'"
      ]
     },
     "execution_count": 299,
     "metadata": {},
     "output_type": "execute_result"
    }
   ],
   "source": [
    "\"\"\"from sklearn.preprocessing import MinMaxScaler,StandardScaler\n",
    "scalar=StandardScaler()\n",
    "shifted_df_as_np=scalar.fit_transform(shifted_df)\n",
    "\n",
    "shifted_df2=pd.DataFrame(shifted_df_as_np,columns=shifted_df.columns.tolist(),index=shifted_df.index)\n",
    "split_index=int(len(shifted_df2)*0.80)\n",
    "split_index2=int(len(shifted_df2)*0.90)\n",
    "x_train=np.array(shifted_df2.iloc[:split_index,1:]).reshape(-1,shifted_df2.shape[1]-1,1)\n",
    "x_val=np.array(shifted_df2.iloc[split_index:split_index2,1:]).reshape(-1,shifted_df2.shape[1]-1,1)\n",
    "x_test=np.array(shifted_df2.iloc[split_index2:,1:]).reshape(-1,shifted_df2.shape[1]-1,1)\n",
    "y_train=np.array(shifted_df2.iloc[:split_index,0]).reshape(-1,1)\n",
    "y_val=np.array(shifted_df2.iloc[split_index:split_index2,0]).reshape(-1,1)\n",
    "y_test=np.array(shifted_df2.iloc[split_index2:,0]).reshape(-1,1)\n",
    "def set_seeds(seed=100):\n",
    "    random.seed(seed)\n",
    "    np.random.seed(seed)\n",
    "\n",
    "\n",
    "\n",
    "\n",
    "\n",
    "\n",
    "\n",
    "with tf.device('/GPU:0'):\n",
    "    set_seeds()\n",
    "    model = Sequential()\n",
    "    model.add(Conv1D(16, x_train.shape[1], activation='relu',input_shape=x_train.shape))\n",
    "    model.add(Conv1D(16, 3, activation='relu'))\n",
    "    model.add(MaxPooling1D(pool_size=2))\n",
    "    model.add(Conv1D(16, 3, activation='relu'))\n",
    "    model.add(MaxPooling1D(pool_size=2))\n",
    "    model.add(Flatten())\n",
    "    Dropout(0.1)\n",
    "    model.add(Dense(64, activation='relu'))\n",
    "    model.add(Dense(1,activation='sigmoid'))\n",
    "optimizer = Adam(learning_rate=0.001)\n",
    "model.compile(optimizer=optimizer,loss='binary_crossentropy',metrics=['accuracy'])\n",
    "model.fit(x_train,y_train, verbose=0,shuffle=0,validation_data=(x_val,y_val),batch_size=16,epochs=30)\n",
    "model.evaluate(x_train,y_train)\n",
    "pred = np.where(model.predict(x_test) > 0.5, 1, 0)\n",
    "predict=model.predict(x_test)\n",
    "test=shifted_df2.iloc[split_index2:,:]\n",
    "test['prediction'] = np.where(pred > 0, 1, -1)\n",
    "test\n",
    "hits = pd.DataFrame(np.sign(test[\"direction\"]*test[\"prediction\"])).value_counts()\n",
    "hits\n",
    "plt.plot(test[\"direction\"],label=\"Actual\")\n",
    "plt.plot(test[\"prediction\"],label='predicted')\n",
    "plt.xlabel(\"Time\")\n",
    "plt.ylabel(\"Close\")\n",
    "plt.legend()\n",
    "plt.show()\"\"\""
   ]
  },
  {
   "cell_type": "code",
   "execution_count": 300,
   "metadata": {},
   "outputs": [],
   "source": [
    "def split_sequences(sequences, n_steps):\n",
    "    X, y = list(), list()\n",
    "    for i in range(len(sequences)):\n",
    "        # find the end of this pattern\n",
    "        end_ix = i + n_steps\n",
    "        # check if we are beyond the dataset\n",
    "        if end_ix > len(sequences):\n",
    "            break\n",
    "        # gather input and output parts of the pattern\n",
    "        seq_x, seq_y = sequences.iloc[i:end_ix, 1:], sequences.iloc[end_ix-1, 0]\n",
    "        X.append(seq_x)\n",
    "        y.append(seq_y)\n",
    "    return np.array(X), np.array(y).reshape(-1,1)"
   ]
  },
  {
   "cell_type": "code",
   "execution_count": 301,
   "metadata": {},
   "outputs": [],
   "source": [
    "from sklearn.preprocessing import MinMaxScaler,StandardScaler\n",
    "scalar=MinMaxScaler(feature_range=(0,1))\n",
    "shifted_df_as_np=scalar.fit_transform(shifted_df.iloc[:,1:])\n",
    "\n",
    "shifted_df2=pd.DataFrame(shifted_df_as_np,columns=shifted_df.columns.tolist()[1:],index=shifted_df.index)\n",
    "n_steps = 5\n",
    "# convert into input/output\n",
    "X, Y = split_sequences(pd.concat([shifted_df[\"direction\"],shifted_df2],axis=1), n_steps)\n"
   ]
  },
  {
   "cell_type": "code",
   "execution_count": 302,
   "metadata": {},
   "outputs": [
    {
     "data": {
      "text/plain": [
       "array([[[0.60888729, 0.14396518, 0.28192839, ..., 0.02997165,\n",
       "         0.02814906, 0.0326043 ],\n",
       "        [0.54182549, 0.16102045, 0.27196946, ..., 0.03300933,\n",
       "         0.02997165, 0.02814906],\n",
       "        [0.49994397, 0.15610186, 0.2695464 , ..., 0.0362495 ,\n",
       "         0.03300933, 0.02997165],\n",
       "        [0.51774747, 0.17384235, 0.27850714, ..., 0.03523694,\n",
       "         0.0362495 , 0.03300933],\n",
       "        [0.50355615, 0.16938471, 0.27356197, ..., 0.03179425,\n",
       "         0.03523694, 0.0362495 ]],\n",
       "\n",
       "       [[0.54182549, 0.16102045, 0.27196946, ..., 0.03300933,\n",
       "         0.02997165, 0.02814906],\n",
       "        [0.49994397, 0.15610186, 0.2695464 , ..., 0.0362495 ,\n",
       "         0.03300933, 0.02997165],\n",
       "        [0.51774747, 0.17384235, 0.27850714, ..., 0.03523694,\n",
       "         0.0362495 , 0.03300933],\n",
       "        [0.50355615, 0.16938471, 0.27356197, ..., 0.03179425,\n",
       "         0.03523694, 0.0362495 ],\n",
       "        [0.52414709, 0.15632487, 0.2709027 , ..., 0.02673147,\n",
       "         0.03179425, 0.03523694]],\n",
       "\n",
       "       [[0.49994397, 0.15610186, 0.2695464 , ..., 0.0362495 ,\n",
       "         0.03300933, 0.02997165],\n",
       "        [0.51774747, 0.17384235, 0.27850714, ..., 0.03523694,\n",
       "         0.0362495 , 0.03300933],\n",
       "        [0.50355615, 0.16938471, 0.27356197, ..., 0.03179425,\n",
       "         0.03523694, 0.0362495 ],\n",
       "        [0.52414709, 0.15632487, 0.2709027 , ..., 0.02673147,\n",
       "         0.03179425, 0.03523694],\n",
       "        [0.51650387, 0.1770929 , 0.25989226, ..., 0.02551641,\n",
       "         0.02673147, 0.03179425]],\n",
       "\n",
       "       ...,\n",
       "\n",
       "       [[0.50347242, 0.37872403, 0.40124505, ..., 0.88659379,\n",
       "         0.92810856, 0.93013372],\n",
       "        [0.55264686, 0.32394509, 0.37332646, ..., 0.87262055,\n",
       "         0.88659379, 0.92810856],\n",
       "        [0.58859177, 0.32042014, 0.37758589, ..., 0.86452007,\n",
       "         0.87262055, 0.88659379],\n",
       "        [0.64697978, 0.3292607 , 0.42031712, ..., 0.89368165,\n",
       "         0.86452007, 0.87262055],\n",
       "        [0.61611133, 0.3298651 , 0.42827207, ..., 0.88153101,\n",
       "         0.89368165, 0.86452007]],\n",
       "\n",
       "       [[0.55264686, 0.32394509, 0.37332646, ..., 0.87262055,\n",
       "         0.88659379, 0.92810856],\n",
       "        [0.58859177, 0.32042014, 0.37758589, ..., 0.86452007,\n",
       "         0.87262055, 0.88659379],\n",
       "        [0.64697978, 0.3292607 , 0.42031712, ..., 0.89368165,\n",
       "         0.86452007, 0.87262055],\n",
       "        [0.61611133, 0.3298651 , 0.42827207, ..., 0.88153101,\n",
       "         0.89368165, 0.86452007],\n",
       "        [0.59842685, 0.16356694, 0.37394368, ..., 0.87343054,\n",
       "         0.88153101, 0.89368165]],\n",
       "\n",
       "       [[0.58859177, 0.32042014, 0.37758589, ..., 0.86452007,\n",
       "         0.87262055, 0.88659379],\n",
       "        [0.64697978, 0.3292607 , 0.42031712, ..., 0.89368165,\n",
       "         0.86452007, 0.87262055],\n",
       "        [0.61611133, 0.3298651 , 0.42827207, ..., 0.88153101,\n",
       "         0.89368165, 0.86452007],\n",
       "        [0.59842685, 0.16356694, 0.37394368, ..., 0.87343054,\n",
       "         0.88153101, 0.89368165],\n",
       "        [0.63430855, 0.15970894, 0.39257382, ..., 0.88254355,\n",
       "         0.87343054, 0.88153101]]])"
      ]
     },
     "execution_count": 302,
     "metadata": {},
     "output_type": "execute_result"
    }
   ],
   "source": [
    "X"
   ]
  },
  {
   "cell_type": "code",
   "execution_count": 303,
   "metadata": {},
   "outputs": [
    {
     "data": {
      "text/plain": [
       "'from sklearn.preprocessing import MinMaxScaler,StandardScaler\\nscalar=StandardScaler()\\nshifted_df_as_np=scalar.fit_transform(shifted_df.iloc[:,1:])\\n\\nshifted_df2=pd.DataFrame(shifted_df_as_np,columns=shifted_df.columns.tolist()[1:],index=shifted_df.index)\\nn_steps = 5\\n# convert into input/output\\nX, Y = split_sequences(pd.concat([shifted_df[\"direction\"],shifted_df2],axis=1), n_steps)\\nsplit_index=int(len(shifted_df2)*0.80)\\nsplit_index2=int(len(shifted_df2)*0.90)\\nx_train=X[:split_index,:]\\nx_val=X[split_index:split_index2,:]\\nx_test=X[split_index2:,:]\\ny_train=to_categorical(Y[:split_index,])\\ny_val=to_categorical(Y[split_index:split_index2,])\\ny_test=to_categorical(Y[split_index2:,])\\nx_train.shape,x_test.shape,y_train.shape,y_test.shape\\ndef set_seeds(seed=100):\\n    random.seed(seed)\\n    np.random.seed(seed)\\n\\n\\nn_features=x_train.shape[2]\\n\\n\\n\\nwith tf.device(\\'/GPU:0\\'):\\n    set_seeds()\\n    model = Sequential()\\n    model.add(Conv1D(32,2, activation=\\'relu\\',input_shape=(n_steps,n_features)))\\n    model.add(MaxPooling1D(pool_size=2))\\n    model.add(Flatten())\\n    model.add(Dense(32, activation=\\'relu\\'))\\n    model.add(Dense(y_train.shape[1],activation=\\'softmax\\'))\\noptimizer = Adam(learning_rate=0.001)\\nmodel.compile(optimizer=optimizer,loss=\\'binary_crossentropy\\',metrics=[\\'accuracy\\'])\\nmodel.fit(x_train,y_train, verbose=1,shuffle=1,validation_data=(x_val,y_val),batch_size=16,epochs=30)\\nmodel.evaluate(x_train,y_train)\\n'"
      ]
     },
     "execution_count": 303,
     "metadata": {},
     "output_type": "execute_result"
    }
   ],
   "source": [
    "\"\"\"from sklearn.preprocessing import MinMaxScaler,StandardScaler\n",
    "scalar=StandardScaler()\n",
    "shifted_df_as_np=scalar.fit_transform(shifted_df.iloc[:,1:])\n",
    "\n",
    "shifted_df2=pd.DataFrame(shifted_df_as_np,columns=shifted_df.columns.tolist()[1:],index=shifted_df.index)\n",
    "n_steps = 5\n",
    "# convert into input/output\n",
    "X, Y = split_sequences(pd.concat([shifted_df[\"direction\"],shifted_df2],axis=1), n_steps)\n",
    "split_index=int(len(shifted_df2)*0.80)\n",
    "split_index2=int(len(shifted_df2)*0.90)\n",
    "x_train=X[:split_index,:]\n",
    "x_val=X[split_index:split_index2,:]\n",
    "x_test=X[split_index2:,:]\n",
    "y_train=to_categorical(Y[:split_index,])\n",
    "y_val=to_categorical(Y[split_index:split_index2,])\n",
    "y_test=to_categorical(Y[split_index2:,])\n",
    "x_train.shape,x_test.shape,y_train.shape,y_test.shape\n",
    "def set_seeds(seed=100):\n",
    "    random.seed(seed)\n",
    "    np.random.seed(seed)\n",
    "\n",
    "\n",
    "n_features=x_train.shape[2]\n",
    "\n",
    "\n",
    "\n",
    "with tf.device('/GPU:0'):\n",
    "    set_seeds()\n",
    "    model = Sequential()\n",
    "    model.add(Conv1D(32,2, activation='relu',input_shape=(n_steps,n_features)))\n",
    "    model.add(MaxPooling1D(pool_size=2))\n",
    "    model.add(Flatten())\n",
    "    model.add(Dense(32, activation='relu'))\n",
    "    model.add(Dense(y_train.shape[1],activation='softmax'))\n",
    "optimizer = Adam(learning_rate=0.001)\n",
    "model.compile(optimizer=optimizer,loss='binary_crossentropy',metrics=['accuracy'])\n",
    "model.fit(x_train,y_train, verbose=1,shuffle=1,validation_data=(x_val,y_val),batch_size=16,epochs=30)\n",
    "model.evaluate(x_train,y_train)\n",
    "\"\"\""
   ]
  },
  {
   "cell_type": "code",
   "execution_count": 304,
   "metadata": {},
   "outputs": [
    {
     "data": {
      "text/plain": [
       "'from sklearn.preprocessing import MinMaxScaler,StandardScaler\\nscalar=StandardScaler()\\nshifted_df_as_np=scalar.fit_transform(shifted_df.iloc[:,1:])\\n\\nshifted_df2=pd.DataFrame(shifted_df_as_np,columns=shifted_df.columns.tolist()[1:],index=shifted_df.index)\\nn_steps = 5\\n# convert into input/output\\nX, Y = split_sequences(pd.concat([shifted_df[\"direction\"],shifted_df2],axis=1), n_steps)\\nsplit_index=int(len(shifted_df2)*0.80)\\nsplit_index2=int(len(shifted_df2)*0.90)\\nx_train=X[:split_index,:]\\nx_val=X[split_index:split_index2,:]\\nx_test=X[split_index2:,:]\\ny_train=to_categorical(Y[:split_index,])\\ny_val=to_categorical(Y[split_index:split_index2,])\\ny_test=to_categorical(Y[split_index2:,])\\nx_train.shape,x_test.shape,y_train.shape,y_test.shape\\ndef set_seeds(seed=100):\\n    random.seed(seed)\\n    np.random.seed(seed)\\n\\n\\nn_features=x_train.shape[2]\\n\\n\\n\\nwith tf.device(\\'/GPU:0\\'):\\n    set_seeds()\\n    model = Sequential()\\n    model.add(Conv1D(32,2, activation=\\'relu\\',input_shape=(n_steps,n_features)))\\n    model.add(Conv1D(filters=64, kernel_size=2, padding=\\'same\\'))\\n    model.add(LeakyReLU(alpha=0.01))\\n    model.add(MaxPooling1D(pool_size=2))\\n    model.add(Conv1D(filters=128, kernel_size=2, padding=\\'same\\'))\\n    model.add(LeakyReLU(alpha=0.01))\\n    model.add(Flatten())\\n    model.add(Dense(256,))\\n    model.add(LeakyReLU(alpha=0.01))\\n    model.add(Dropout(0.8))\\n    model.add(Dense(y_train.shape[1],activation=\\'softmax\\'))\\noptimizer = Adam(learning_rate=0.001)\\nmodel.compile(optimizer=optimizer,loss=\\'binary_crossentropy\\',metrics=[\\'accuracy\\'])\\nmodel.fit(x_train,y_train, verbose=1,shuffle=1,validation_data=(x_val,y_val),batch_size=16,epochs=30)\\nmodel.evaluate(x_train,y_train)'"
      ]
     },
     "execution_count": 304,
     "metadata": {},
     "output_type": "execute_result"
    }
   ],
   "source": [
    "\"\"\"from sklearn.preprocessing import MinMaxScaler,StandardScaler\n",
    "scalar=StandardScaler()\n",
    "shifted_df_as_np=scalar.fit_transform(shifted_df.iloc[:,1:])\n",
    "\n",
    "shifted_df2=pd.DataFrame(shifted_df_as_np,columns=shifted_df.columns.tolist()[1:],index=shifted_df.index)\n",
    "n_steps = 5\n",
    "# convert into input/output\n",
    "X, Y = split_sequences(pd.concat([shifted_df[\"direction\"],shifted_df2],axis=1), n_steps)\n",
    "split_index=int(len(shifted_df2)*0.80)\n",
    "split_index2=int(len(shifted_df2)*0.90)\n",
    "x_train=X[:split_index,:]\n",
    "x_val=X[split_index:split_index2,:]\n",
    "x_test=X[split_index2:,:]\n",
    "y_train=to_categorical(Y[:split_index,])\n",
    "y_val=to_categorical(Y[split_index:split_index2,])\n",
    "y_test=to_categorical(Y[split_index2:,])\n",
    "x_train.shape,x_test.shape,y_train.shape,y_test.shape\n",
    "def set_seeds(seed=100):\n",
    "    random.seed(seed)\n",
    "    np.random.seed(seed)\n",
    "\n",
    "\n",
    "n_features=x_train.shape[2]\n",
    "\n",
    "\n",
    "\n",
    "with tf.device('/GPU:0'):\n",
    "    set_seeds()\n",
    "    model = Sequential()\n",
    "    model.add(Conv1D(32,2, activation='relu',input_shape=(n_steps,n_features)))\n",
    "    model.add(Conv1D(filters=64, kernel_size=2, padding='same'))\n",
    "    model.add(LeakyReLU(alpha=0.01))\n",
    "    model.add(MaxPooling1D(pool_size=2))\n",
    "    model.add(Conv1D(filters=128, kernel_size=2, padding='same'))\n",
    "    model.add(LeakyReLU(alpha=0.01))\n",
    "    model.add(Flatten())\n",
    "    model.add(Dense(256,))\n",
    "    model.add(LeakyReLU(alpha=0.01))\n",
    "    model.add(Dropout(0.8))\n",
    "    model.add(Dense(y_train.shape[1],activation='softmax'))\n",
    "optimizer = Adam(learning_rate=0.001)\n",
    "model.compile(optimizer=optimizer,loss='binary_crossentropy',metrics=['accuracy'])\n",
    "model.fit(x_train,y_train, verbose=1,shuffle=1,validation_data=(x_val,y_val),batch_size=16,epochs=30)\n",
    "model.evaluate(x_train,y_train)\"\"\"\n"
   ]
  },
  {
   "cell_type": "code",
   "execution_count": 305,
   "metadata": {},
   "outputs": [
    {
     "name": "stdout",
     "output_type": "stream",
     "text": [
      "Epoch 1/30\n",
      "61/61 [==============================] - 1s 5ms/step - loss: 0.7061 - accuracy: 0.4794 - val_loss: 0.6916 - val_accuracy: 0.4959\n",
      "Epoch 2/30\n",
      "61/61 [==============================] - 0s 3ms/step - loss: 0.6925 - accuracy: 0.5206 - val_loss: 0.6947 - val_accuracy: 0.5041\n",
      "Epoch 3/30\n",
      "61/61 [==============================] - 0s 3ms/step - loss: 0.6920 - accuracy: 0.5278 - val_loss: 0.6909 - val_accuracy: 0.4876\n",
      "Epoch 4/30\n",
      "61/61 [==============================] - 0s 3ms/step - loss: 0.6898 - accuracy: 0.5454 - val_loss: 0.6903 - val_accuracy: 0.5372\n",
      "Epoch 5/30\n",
      "61/61 [==============================] - 0s 3ms/step - loss: 0.6856 - accuracy: 0.5433 - val_loss: 0.6883 - val_accuracy: 0.5207\n",
      "Epoch 6/30\n",
      "61/61 [==============================] - 0s 3ms/step - loss: 0.6910 - accuracy: 0.5371 - val_loss: 0.6907 - val_accuracy: 0.4959\n",
      "Epoch 7/30\n",
      "61/61 [==============================] - 0s 3ms/step - loss: 0.6874 - accuracy: 0.5505 - val_loss: 0.6953 - val_accuracy: 0.4876\n",
      "Epoch 8/30\n",
      "61/61 [==============================] - 0s 3ms/step - loss: 0.6875 - accuracy: 0.5464 - val_loss: 0.6977 - val_accuracy: 0.5041\n",
      "Epoch 9/30\n",
      "61/61 [==============================] - 0s 3ms/step - loss: 0.6849 - accuracy: 0.5402 - val_loss: 0.6948 - val_accuracy: 0.5124\n",
      "Epoch 10/30\n",
      "61/61 [==============================] - 0s 3ms/step - loss: 0.6838 - accuracy: 0.5722 - val_loss: 0.7032 - val_accuracy: 0.5207\n",
      "Epoch 11/30\n",
      "61/61 [==============================] - 0s 3ms/step - loss: 0.6835 - accuracy: 0.5371 - val_loss: 0.7024 - val_accuracy: 0.5537\n",
      "Epoch 12/30\n",
      "61/61 [==============================] - 0s 3ms/step - loss: 0.6773 - accuracy: 0.5557 - val_loss: 0.7023 - val_accuracy: 0.5207\n",
      "Epoch 13/30\n",
      "61/61 [==============================] - 0s 3ms/step - loss: 0.6769 - accuracy: 0.5753 - val_loss: 0.7095 - val_accuracy: 0.5207\n",
      "Epoch 14/30\n",
      "61/61 [==============================] - 0s 3ms/step - loss: 0.6751 - accuracy: 0.5732 - val_loss: 0.7029 - val_accuracy: 0.5124\n",
      "Epoch 15/30\n",
      "61/61 [==============================] - 0s 3ms/step - loss: 0.6821 - accuracy: 0.5639 - val_loss: 0.6965 - val_accuracy: 0.5207\n",
      "Epoch 16/30\n",
      "61/61 [==============================] - 0s 3ms/step - loss: 0.6703 - accuracy: 0.5814 - val_loss: 0.7294 - val_accuracy: 0.5289\n",
      "Epoch 17/30\n",
      "61/61 [==============================] - 0s 3ms/step - loss: 0.6706 - accuracy: 0.5670 - val_loss: 0.7161 - val_accuracy: 0.4959\n",
      "Epoch 18/30\n",
      "61/61 [==============================] - 0s 3ms/step - loss: 0.6701 - accuracy: 0.5825 - val_loss: 0.7076 - val_accuracy: 0.5041\n",
      "Epoch 19/30\n",
      "61/61 [==============================] - 0s 3ms/step - loss: 0.6654 - accuracy: 0.5784 - val_loss: 0.7259 - val_accuracy: 0.5124\n",
      "Epoch 20/30\n",
      "61/61 [==============================] - 0s 3ms/step - loss: 0.6645 - accuracy: 0.6052 - val_loss: 0.7485 - val_accuracy: 0.4793\n",
      "Epoch 21/30\n",
      "61/61 [==============================] - 0s 3ms/step - loss: 0.6597 - accuracy: 0.5887 - val_loss: 0.7721 - val_accuracy: 0.4711\n",
      "Epoch 22/30\n",
      "61/61 [==============================] - 0s 3ms/step - loss: 0.6612 - accuracy: 0.5784 - val_loss: 0.7877 - val_accuracy: 0.5041\n",
      "Epoch 23/30\n",
      "61/61 [==============================] - 0s 3ms/step - loss: 0.6566 - accuracy: 0.5969 - val_loss: 0.7886 - val_accuracy: 0.5289\n",
      "Epoch 24/30\n",
      "61/61 [==============================] - 0s 3ms/step - loss: 0.6483 - accuracy: 0.6134 - val_loss: 0.8378 - val_accuracy: 0.5041\n",
      "Epoch 25/30\n",
      "61/61 [==============================] - 0s 3ms/step - loss: 0.6493 - accuracy: 0.6000 - val_loss: 0.9254 - val_accuracy: 0.5207\n",
      "Epoch 26/30\n",
      "61/61 [==============================] - 0s 3ms/step - loss: 0.6478 - accuracy: 0.5928 - val_loss: 0.8323 - val_accuracy: 0.5041\n",
      "Epoch 27/30\n",
      "61/61 [==============================] - 0s 3ms/step - loss: 0.6431 - accuracy: 0.6072 - val_loss: 0.8997 - val_accuracy: 0.5455\n",
      "Epoch 28/30\n",
      "61/61 [==============================] - 0s 3ms/step - loss: 0.6448 - accuracy: 0.6175 - val_loss: 0.8947 - val_accuracy: 0.5537\n",
      "Epoch 29/30\n",
      "61/61 [==============================] - 0s 3ms/step - loss: 0.6365 - accuracy: 0.6175 - val_loss: 0.9165 - val_accuracy: 0.4711\n",
      "Epoch 30/30\n",
      "61/61 [==============================] - 0s 3ms/step - loss: 0.6404 - accuracy: 0.6186 - val_loss: 0.9535 - val_accuracy: 0.4463\n",
      "31/31 [==============================] - 0s 2ms/step - loss: 0.6196 - accuracy: 0.6649\n"
     ]
    },
    {
     "data": {
      "text/plain": [
       "[0.6195588111877441, 0.6649484634399414]"
      ]
     },
     "execution_count": 305,
     "metadata": {},
     "output_type": "execute_result"
    }
   ],
   "source": [
    "from sklearn.preprocessing import MinMaxScaler,StandardScaler\n",
    "scalar=StandardScaler()\n",
    "shifted_df_as_np=scalar.fit_transform(shifted_df.iloc[:,1:])\n",
    "\n",
    "shifted_df2=pd.DataFrame(shifted_df_as_np,columns=shifted_df.columns.tolist()[1:],index=shifted_df.index)\n",
    "n_steps = 5\n",
    "# convert into input/output\n",
    "X, Y = split_sequences(pd.concat([shifted_df[\"direction\"],shifted_df2],axis=1), n_steps)\n",
    "split_index=int(len(shifted_df2)*0.80)\n",
    "split_index2=int(len(shifted_df2)*0.90)\n",
    "x_train=X[:split_index,:]\n",
    "x_val=X[split_index:split_index2,:]\n",
    "x_test=X[split_index2:,:]\n",
    "y_train=to_categorical(Y[:split_index,])\n",
    "y_val=to_categorical(Y[split_index:split_index2,])\n",
    "y_test=to_categorical(Y[split_index2:,])\n",
    "x_train.shape,x_test.shape,y_train.shape,y_test.shape\n",
    "def set_seeds(seed=100):\n",
    "    random.seed(seed)\n",
    "    np.random.seed(seed)\n",
    "\n",
    "\n",
    "n_features=x_train.shape[2]\n",
    "\n",
    "\n",
    "\n",
    "with tf.device('/GPU:0'):\n",
    "    set_seeds()\n",
    "    model = Sequential()\n",
    "    model.add(Conv1D(64,2, activation='relu',input_shape=(n_steps,n_features)))\n",
    "    model.add(Conv1D(filters=64, kernel_size=2, activation=\"relu\"))\n",
    "    model.add(Dropout(0.5))\n",
    "    model.add(MaxPooling1D(pool_size=2))\n",
    "    model.add(Flatten())\n",
    "    model.add(Dense(100,activation=\"relu\"))\n",
    "    model.add(Dense(y_train.shape[1],activation='softmax'))\n",
    "optimizer = Adam(learning_rate=0.001)\n",
    "model.compile(optimizer=optimizer,loss='binary_crossentropy',metrics=['accuracy'])\n",
    "model.fit(x_train,y_train, verbose=1,shuffle=1,validation_data=(x_val,y_val),batch_size=16,epochs=30)\n",
    "model.evaluate(x_train,y_train)"
   ]
  },
  {
   "cell_type": "code",
   "execution_count": 319,
   "metadata": {},
   "outputs": [
    {
     "name": "stdout",
     "output_type": "stream",
     "text": [
      "4/4 [==============================] - 0s 2ms/step\n"
     ]
    },
    {
     "data": {
      "text/plain": [
       "array([[1, 0],\n",
       "       [1, 0],\n",
       "       [1, 0],\n",
       "       [1, 0],\n",
       "       [1, 0],\n",
       "       [1, 0],\n",
       "       [1, 0],\n",
       "       [1, 0],\n",
       "       [1, 0],\n",
       "       [1, 0],\n",
       "       [1, 0],\n",
       "       [1, 0],\n",
       "       [1, 0],\n",
       "       [1, 0],\n",
       "       [1, 0],\n",
       "       [0, 1],\n",
       "       [1, 0],\n",
       "       [1, 0],\n",
       "       [1, 0],\n",
       "       [1, 0],\n",
       "       [1, 0],\n",
       "       [1, 0],\n",
       "       [1, 0],\n",
       "       [1, 0],\n",
       "       [1, 0],\n",
       "       [1, 0],\n",
       "       [1, 0],\n",
       "       [1, 0],\n",
       "       [1, 0],\n",
       "       [1, 0],\n",
       "       [0, 1],\n",
       "       [1, 0],\n",
       "       [1, 0],\n",
       "       [1, 0],\n",
       "       [1, 0],\n",
       "       [0, 1],\n",
       "       [1, 0],\n",
       "       [1, 0],\n",
       "       [1, 0],\n",
       "       [1, 0],\n",
       "       [1, 0],\n",
       "       [1, 0],\n",
       "       [0, 1],\n",
       "       [1, 0],\n",
       "       [1, 0],\n",
       "       [1, 0],\n",
       "       [1, 0],\n",
       "       [0, 1],\n",
       "       [0, 1],\n",
       "       [1, 0],\n",
       "       [1, 0],\n",
       "       [1, 0],\n",
       "       [0, 1],\n",
       "       [0, 1],\n",
       "       [1, 0],\n",
       "       [1, 0],\n",
       "       [0, 1],\n",
       "       [1, 0],\n",
       "       [1, 0],\n",
       "       [1, 0],\n",
       "       [1, 0],\n",
       "       [1, 0],\n",
       "       [1, 0],\n",
       "       [1, 0],\n",
       "       [1, 0],\n",
       "       [1, 0],\n",
       "       [1, 0],\n",
       "       [1, 0],\n",
       "       [1, 0],\n",
       "       [1, 0],\n",
       "       [1, 0],\n",
       "       [0, 1],\n",
       "       [1, 0],\n",
       "       [1, 0],\n",
       "       [0, 1],\n",
       "       [1, 0],\n",
       "       [1, 0],\n",
       "       [1, 0],\n",
       "       [1, 0],\n",
       "       [1, 0],\n",
       "       [1, 0],\n",
       "       [1, 0],\n",
       "       [1, 0],\n",
       "       [1, 0],\n",
       "       [1, 0],\n",
       "       [1, 0],\n",
       "       [1, 0],\n",
       "       [1, 0],\n",
       "       [1, 0],\n",
       "       [1, 0],\n",
       "       [1, 0],\n",
       "       [1, 0],\n",
       "       [0, 1],\n",
       "       [0, 1],\n",
       "       [0, 1],\n",
       "       [1, 0],\n",
       "       [1, 0],\n",
       "       [1, 0],\n",
       "       [1, 0],\n",
       "       [1, 0],\n",
       "       [1, 0],\n",
       "       [0, 1],\n",
       "       [1, 0],\n",
       "       [1, 0],\n",
       "       [1, 0],\n",
       "       [1, 0],\n",
       "       [1, 0],\n",
       "       [1, 0],\n",
       "       [1, 0],\n",
       "       [1, 0],\n",
       "       [1, 0],\n",
       "       [1, 0],\n",
       "       [1, 0],\n",
       "       [1, 0],\n",
       "       [1, 0],\n",
       "       [1, 0],\n",
       "       [1, 0],\n",
       "       [1, 0]])"
      ]
     },
     "execution_count": 319,
     "metadata": {},
     "output_type": "execute_result"
    }
   ],
   "source": [
    "predict=model.predict(x_test)\n",
    "pred=(predict > 0.5).astype(int)\n",
    "pred"
   ]
  },
  {
   "cell_type": "code",
   "execution_count": 307,
   "metadata": {},
   "outputs": [
    {
     "name": "stdout",
     "output_type": "stream",
     "text": [
      "4/4 [==============================] - 0s 1ms/step\n"
     ]
    },
    {
     "name": "stderr",
     "output_type": "stream",
     "text": [
      "/tmp/ipykernel_5553/1987517497.py:5: SettingWithCopyWarning: \n",
      "A value is trying to be set on a copy of a slice from a DataFrame.\n",
      "Try using .loc[row_indexer,col_indexer] = value instead\n",
      "\n",
      "See the caveats in the documentation: https://pandas.pydata.org/pandas-docs/stable/user_guide/indexing.html#returning-a-view-versus-a-copy\n",
      "  test['prediction']=predict2\n"
     ]
    },
    {
     "data": {
      "image/png": "[encoded data removed]",
      "text/plain": [
       "<Figure size 640x480 with 1 Axes>"
      ]
     },
     "metadata": {},
     "output_type": "display_data"
    }
   ],
   "source": [
    "pred=np.where(model.predict(x_test) > 0.5, 1, 0)\n",
    "predict2 = np.where(pred[:,0] > 0, 0, 1)\n",
    "shifted_df3=pd.concat([shifted_df[\"direction\"],shifted_df2],axis=1)\n",
    "test=shifted_df3.iloc[split_index2+n_steps-1:,:]\n",
    "test['prediction']=predict2\n",
    "test\n",
    "hits = pd.DataFrame(np.sign(test[\"direction\"]*test[\"prediction\"])).value_counts()\n",
    "hits\n",
    "plt.plot(Y[split_index2:,],label=\"Actual\")\n",
    "plt.plot(predict2,label='predicted')\n",
    "plt.xlabel(\"Time\")\n",
    "plt.ylabel(\"Close\")\n",
    "plt.legend()\n",
    "plt.show()"
   ]
  },
  {
   "cell_type": "code",
   "execution_count": 308,
   "metadata": {},
   "outputs": [
    {
     "name": "stdout",
     "output_type": "stream",
     "text": [
      "4/4 [==============================] - 0s 1ms/step\n"
     ]
    },
    {
     "data": {
      "text/plain": [
       "array([0, 0, 0, 0, 0, 0, 0, 0, 0, 0, 0, 0, 0, 0, 0, 1, 0, 0, 0, 0, 0, 0,\n",
       "       0, 0, 0, 0, 0, 0, 0, 0, 1, 0, 0, 0, 0, 1, 0, 0, 0, 0, 0, 0, 1, 0,\n",
       "       0, 0, 0, 1, 1, 0, 0, 0, 1, 1, 0, 0, 1, 0, 0, 0, 0, 0, 0, 0, 0, 0,\n",
       "       0, 0, 0, 0, 0, 1, 0, 0, 1, 0, 0, 0, 0, 0, 0, 0, 0, 0, 0, 0, 0, 0,\n",
       "       0, 0, 0, 0, 1, 1, 1, 0, 0, 0, 0, 0, 0, 1, 0, 0, 0, 0, 0, 0, 0, 0,\n",
       "       0, 0, 0, 0, 0, 0, 0, 0])"
      ]
     },
     "execution_count": 308,
     "metadata": {},
     "output_type": "execute_result"
    }
   ],
   "source": [
    "test_out = model.predict(x_test)\n",
    "test_pred = (test_out > 0.5).astype(int)\n",
    "test_pred2=np.where(test_pred[:,0] >0,0,1)\n",
    "test_pred2"
   ]
  },
  {
   "cell_type": "code",
   "execution_count": 309,
   "metadata": {},
   "outputs": [
    {
     "name": "stdout",
     "output_type": "stream",
     "text": [
      "4/4 [==============================] - 0s 2ms/step\n",
      "accuracy: 0.5\n",
      "accuracy: 0.5\n",
      "MAE: 0.5\n"
     ]
    }
   ],
   "source": [
    "test_out = model.predict(x_test)\n",
    "test_pred = (test_out > 0.5).astype(int)\n",
    "test_pred2=np.where(test_pred[:,0] >0,0,1)\n",
    "print(\"accuracy:\", accuracy_score(test_pred2, Y[split_index2:,]))\n",
    "print(\"accuracy:\", accuracy_score(test_pred, y_test))\n",
    "\n",
    "print(\"MAE:\", mean_absolute_error(test_pred, y_test))\n"
   ]
  },
  {
   "cell_type": "code",
   "execution_count": 310,
   "metadata": {},
   "outputs": [
    {
     "name": "stdout",
     "output_type": "stream",
     "text": [
      "4/4 [==============================] - 0s 3ms/step - loss: 1.2110 - accuracy: 0.5000\n"
     ]
    },
    {
     "data": {
      "text/plain": [
       "[1.2110323905944824, 0.5]"
      ]
     },
     "execution_count": 310,
     "metadata": {},
     "output_type": "execute_result"
    }
   ],
   "source": [
    "model.evaluate(x_test,y_test)\n"
   ]
  },
  {
   "cell_type": "code",
   "execution_count": 311,
   "metadata": {},
   "outputs": [
    {
     "data": {
      "text/plain": [
       "array([0, 0, 0, 0, 0, 0, 0, 0, 0, 0, 0, 0, 0, 0, 0, 1, 0, 0, 0, 0, 0, 0,\n",
       "       0, 0, 0, 0, 0, 0, 0, 0, 1, 0, 0, 0, 0, 1, 0, 0, 0, 0, 0, 0, 1, 0,\n",
       "       0, 0, 0, 1, 1, 0, 0, 0, 1, 1, 0, 0, 1, 0, 0, 0, 0, 0, 0, 0, 0, 0,\n",
       "       0, 0, 0, 0, 0, 1, 0, 0, 1, 0, 0, 0, 0, 0, 0, 0, 0, 0, 0, 0, 0, 0,\n",
       "       0, 0, 0, 0, 1, 1, 1, 0, 0, 0, 0, 0, 0, 1, 0, 0, 0, 0, 0, 0, 0, 0,\n",
       "       0, 0, 0, 0, 0, 0, 0, 0])"
      ]
     },
     "execution_count": 311,
     "metadata": {},
     "output_type": "execute_result"
    }
   ],
   "source": [
    "predict2"
   ]
  },
  {
   "cell_type": "code",
   "execution_count": 312,
   "metadata": {},
   "outputs": [
    {
     "data": {
      "text/plain": [
       "\"from sklearn.preprocessing import MinMaxScaler,StandardScaler\\nscalar=StandardScaler()\\nshifted_df_as_np=scalar.fit_transform(shifted_df)\\n\\nshifted_df2=pd.DataFrame(shifted_df_as_np,columns=shifted_df.columns.tolist(),index=shifted_df.index)\\nsplit_index=int(len(shifted_df2)*0.80)\\nsplit_index2=int(len(shifted_df2)*0.90)\\nx_train=np.array(shifted_df2.iloc[:split_index,1:]).reshape(-1,shifted_df2.shape[1]-1,1)\\nx_val=np.array(shifted_df2.iloc[split_index:split_index2,1:]).reshape(-1,shifted_df2.shape[1]-1,1)\\nx_test=np.array(shifted_df2.iloc[split_index2:,1:]).reshape(-1,shifted_df2.shape[1]-1,1)\\ny_train=np.array(shifted_df2.iloc[:split_index,0]).reshape(-1,1)\\ny_val=np.array(shifted_df2.iloc[split_index:split_index2,0]).reshape(-1,1)\\ny_test=np.array(shifted_df2.iloc[split_index2:,0]).reshape(-1,1)\\ndef set_seeds(seed=100):\\n    random.seed(seed)\\n    np.random.seed(seed)\\n\\n\\nn_steps=1\\nn_features=x_train.shape[1]\\n\\n\\n\\nwith tf.device('/GPU:0'):\\n    set_seeds()\\n    model = Sequential()\\n    model.add(Conv1D(64,2, activation='relu',input_shape=(n_features,n_steps)))\\n    model.add(MaxPooling1D(pool_size=2))\\n    model.add(Flatten())\\n    model.add(Dense(64, activation='relu'))\\n    model.add(Dense(1,activation='softmax'))\\noptimizer = Adam(learning_rate=0.001)\\nmodel.compile(optimizer=optimizer,loss='binary_crossentropy',metrics=['accuracy'])\\nmodel.fit(x_train,y_train, verbose=1,shuffle=1,validation_data=(x_val,y_val),batch_size=16,epochs=30)\\nmodel.evaluate(x_train,y_train)\\n\""
      ]
     },
     "execution_count": 312,
     "metadata": {},
     "output_type": "execute_result"
    }
   ],
   "source": [
    "\"\"\"from sklearn.preprocessing import MinMaxScaler,StandardScaler\n",
    "scalar=StandardScaler()\n",
    "shifted_df_as_np=scalar.fit_transform(shifted_df)\n",
    "\n",
    "shifted_df2=pd.DataFrame(shifted_df_as_np,columns=shifted_df.columns.tolist(),index=shifted_df.index)\n",
    "split_index=int(len(shifted_df2)*0.80)\n",
    "split_index2=int(len(shifted_df2)*0.90)\n",
    "x_train=np.array(shifted_df2.iloc[:split_index,1:]).reshape(-1,shifted_df2.shape[1]-1,1)\n",
    "x_val=np.array(shifted_df2.iloc[split_index:split_index2,1:]).reshape(-1,shifted_df2.shape[1]-1,1)\n",
    "x_test=np.array(shifted_df2.iloc[split_index2:,1:]).reshape(-1,shifted_df2.shape[1]-1,1)\n",
    "y_train=np.array(shifted_df2.iloc[:split_index,0]).reshape(-1,1)\n",
    "y_val=np.array(shifted_df2.iloc[split_index:split_index2,0]).reshape(-1,1)\n",
    "y_test=np.array(shifted_df2.iloc[split_index2:,0]).reshape(-1,1)\n",
    "def set_seeds(seed=100):\n",
    "    random.seed(seed)\n",
    "    np.random.seed(seed)\n",
    "\n",
    "\n",
    "n_steps=1\n",
    "n_features=x_train.shape[1]\n",
    "\n",
    "\n",
    "\n",
    "with tf.device('/GPU:0'):\n",
    "    set_seeds()\n",
    "    model = Sequential()\n",
    "    model.add(Conv1D(64,2, activation='relu',input_shape=(n_features,n_steps)))\n",
    "    model.add(MaxPooling1D(pool_size=2))\n",
    "    model.add(Flatten())\n",
    "    model.add(Dense(64, activation='relu'))\n",
    "    model.add(Dense(1,activation='softmax'))\n",
    "optimizer = Adam(learning_rate=0.001)\n",
    "model.compile(optimizer=optimizer,loss='binary_crossentropy',metrics=['accuracy'])\n",
    "model.fit(x_train,y_train, verbose=1,shuffle=1,validation_data=(x_val,y_val),batch_size=16,epochs=30)\n",
    "model.evaluate(x_train,y_train)\n",
    "\"\"\""
   ]
  },
  {
   "cell_type": "code",
   "execution_count": 313,
   "metadata": {},
   "outputs": [
    {
     "data": {
      "text/plain": [
       "'test=shifted_df2\\ntest[\"predict\"]=model.predict(x_test)\\ntest=scalar.inverse_transform(test)\\npred = np.where(test[\"predict\"] > 0.5, 1, 0)\\ntest[\\'prediction\\'] = np.where(pred > 0, 1, -1)\\nhits = pd.DataFrame(np.sign(test[\"direction\"]*test[\"prediction\"])).value_counts()\\nhits\\nplt.plot(test[\"direction\"],label=\"Actual\")\\nplt.plot(test[\"prediction\"],label=\\'predicted\\')\\nplt.xlabel(\"Time\")\\nplt.ylabel(\"Close\")\\nplt.legend()\\nplt.show()'"
      ]
     },
     "execution_count": 313,
     "metadata": {},
     "output_type": "execute_result"
    }
   ],
   "source": [
    "\"\"\"test=shifted_df2\n",
    "test[\"predict\"]=model.predict(x_test)\n",
    "test=scalar.inverse_transform(test)\n",
    "pred = np.where(test[\"predict\"] > 0.5, 1, 0)\n",
    "test['prediction'] = np.where(pred > 0, 1, -1)\n",
    "hits = pd.DataFrame(np.sign(test[\"direction\"]*test[\"prediction\"])).value_counts()\n",
    "hits\n",
    "plt.plot(test[\"direction\"],label=\"Actual\")\n",
    "plt.plot(test[\"prediction\"],label='predicted')\n",
    "plt.xlabel(\"Time\")\n",
    "plt.ylabel(\"Close\")\n",
    "plt.legend()\n",
    "plt.show()\"\"\""
   ]
  },
  {
   "cell_type": "code",
   "execution_count": 314,
   "metadata": {},
   "outputs": [
    {
     "data": {
      "text/plain": [
       "'plt.plot(test[\"direction\"],label=\"Actual\")\\nplt.plot(test[\"prediction\"],label=\\'predicted\\')\\nplt.xlabel(\"Time\")\\nplt.ylabel(\"Close\")\\nplt.legend()\\nplt.show()'"
      ]
     },
     "execution_count": 314,
     "metadata": {},
     "output_type": "execute_result"
    }
   ],
   "source": [
    "\"\"\"plt.plot(test[\"direction\"],label=\"Actual\")\n",
    "plt.plot(test[\"prediction\"],label='predicted')\n",
    "plt.xlabel(\"Time\")\n",
    "plt.ylabel(\"Close\")\n",
    "plt.legend()\n",
    "plt.show()\"\"\""
   ]
  },
  {
   "cell_type": "code",
   "execution_count": 315,
   "metadata": {},
   "outputs": [
    {
     "data": {
      "text/plain": [
       "0    110\n",
       "1      8\n",
       "dtype: int64"
      ]
     },
     "execution_count": 315,
     "metadata": {},
     "output_type": "execute_result"
    }
   ],
   "source": [
    "hits = pd.DataFrame(np.sign(test[\"direction\"]*test[\"prediction\"])).value_counts()\n",
    "hits\n"
   ]
  },
  {
   "cell_type": "code",
   "execution_count": 316,
   "metadata": {},
   "outputs": [
    {
     "data": {
      "text/plain": [
       "0.9322033898305084"
      ]
     },
     "execution_count": 316,
     "metadata": {},
     "output_type": "execute_result"
    }
   ],
   "source": [
    "hits.values[0] / sum(hits)\n"
   ]
  },
  {
   "cell_type": "code",
   "execution_count": 317,
   "metadata": {},
   "outputs": [
    {
     "data": {
      "text/plain": [
       "0    1  \n",
       "0.0  0.0    59\n",
       "1.0  0.0    51\n",
       "0.0  1.0     8\n",
       "dtype: int64"
      ]
     },
     "execution_count": 317,
     "metadata": {},
     "output_type": "execute_result"
    }
   ],
   "source": [
    "hits = pd.DataFrame(np.sign(y_test*test_pred)).value_counts()\n",
    "hits\n"
   ]
  },
  {
   "cell_type": "code",
   "execution_count": 318,
   "metadata": {},
   "outputs": [
    {
     "data": {
      "text/plain": [
       "0.5"
      ]
     },
     "execution_count": 318,
     "metadata": {},
     "output_type": "execute_result"
    }
   ],
   "source": [
    "hits.values[0] / sum(hits)\n"
   ]
  },
  {
   "cell_type": "code",
   "execution_count": null,
   "metadata": {},
   "outputs": [],
   "source": []
  },
  {
   "cell_type": "code",
   "execution_count": null,
   "metadata": {},
   "outputs": [],
   "source": []
  }
 ],
 "metadata": {
  "kernelspec": {
   "display_name": "Python 3",
   "language": "python",
   "name": "python3"
  },
  "language_info": {
   "codemirror_mode": {
    "name": "ipython",
    "version": 3
   },
   "file_extension": ".py",
   "mimetype": "text/x-python",
   "name": "python",
   "nbconvert_exporter": "python",
   "pygments_lexer": "ipython3",
   "version": "3.9.17"
  },
  "orig_nbformat": 4
 },
 "nbformat": 4,
 "nbformat_minor": 2
}
