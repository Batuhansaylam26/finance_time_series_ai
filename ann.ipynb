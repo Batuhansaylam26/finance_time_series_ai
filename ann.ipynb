{
 "cells": [
  {
   "cell_type": "code",
   "execution_count": 17,
   "metadata": {},
   "outputs": [],
   "source": [
    "import yfinance as yf\n",
    "import pandas as pd \n",
    "import sklearn.model_selection as sk\n",
    "import numpy as np"
   ]
  },
  {
   "cell_type": "code",
   "execution_count": 18,
   "metadata": {},
   "outputs": [
    {
     "name": "stdout",
     "output_type": "stream",
     "text": [
      "[*********************100%%**********************]  1 of 1 completed\n"
     ]
    },
    {
     "data": {
      "text/html": [
       "<div>\n",
       "<style scoped>\n",
       "    .dataframe tbody tr th:only-of-type {\n",
       "        vertical-align: middle;\n",
       "    }\n",
       "\n",
       "    .dataframe tbody tr th {\n",
       "        vertical-align: top;\n",
       "    }\n",
       "\n",
       "    .dataframe thead th {\n",
       "        text-align: right;\n",
       "    }\n",
       "</style>\n",
       "<table border=\"1\" class=\"dataframe\">\n",
       "  <thead>\n",
       "    <tr style=\"text-align: right;\">\n",
       "      <th></th>\n",
       "      <th>open</th>\n",
       "      <th>high</th>\n",
       "      <th>low</th>\n",
       "      <th>close</th>\n",
       "      <th>adj close</th>\n",
       "      <th>volume</th>\n",
       "    </tr>\n",
       "    <tr>\n",
       "      <th>Datetime</th>\n",
       "      <th></th>\n",
       "      <th></th>\n",
       "      <th></th>\n",
       "      <th></th>\n",
       "      <th></th>\n",
       "      <th></th>\n",
       "    </tr>\n",
       "  </thead>\n",
       "  <tbody>\n",
       "    <tr>\n",
       "      <th>2023-08-31 09:30:00-04:00</th>\n",
       "      <td>187.839996</td>\n",
       "      <td>188.100006</td>\n",
       "      <td>187.809998</td>\n",
       "      <td>188.089996</td>\n",
       "      <td>188.089996</td>\n",
       "      <td>1444289</td>\n",
       "    </tr>\n",
       "    <tr>\n",
       "      <th>2023-08-31 09:31:00-04:00</th>\n",
       "      <td>188.100006</td>\n",
       "      <td>188.339996</td>\n",
       "      <td>188.029999</td>\n",
       "      <td>188.320007</td>\n",
       "      <td>188.320007</td>\n",
       "      <td>240389</td>\n",
       "    </tr>\n",
       "    <tr>\n",
       "      <th>2023-08-31 09:32:00-04:00</th>\n",
       "      <td>188.309998</td>\n",
       "      <td>188.369995</td>\n",
       "      <td>188.009995</td>\n",
       "      <td>188.070007</td>\n",
       "      <td>188.070007</td>\n",
       "      <td>227674</td>\n",
       "    </tr>\n",
       "    <tr>\n",
       "      <th>2023-08-31 09:33:00-04:00</th>\n",
       "      <td>188.085602</td>\n",
       "      <td>188.259995</td>\n",
       "      <td>187.800003</td>\n",
       "      <td>188.225006</td>\n",
       "      <td>188.225006</td>\n",
       "      <td>285393</td>\n",
       "    </tr>\n",
       "    <tr>\n",
       "      <th>2023-08-31 09:34:00-04:00</th>\n",
       "      <td>188.212997</td>\n",
       "      <td>188.270004</td>\n",
       "      <td>187.789993</td>\n",
       "      <td>187.789993</td>\n",
       "      <td>187.789993</td>\n",
       "      <td>184717</td>\n",
       "    </tr>\n",
       "    <tr>\n",
       "      <th>...</th>\n",
       "      <td>...</td>\n",
       "      <td>...</td>\n",
       "      <td>...</td>\n",
       "      <td>...</td>\n",
       "      <td>...</td>\n",
       "      <td>...</td>\n",
       "    </tr>\n",
       "    <tr>\n",
       "      <th>2023-09-11 15:55:00-04:00</th>\n",
       "      <td>179.309998</td>\n",
       "      <td>179.330002</td>\n",
       "      <td>179.220001</td>\n",
       "      <td>179.247894</td>\n",
       "      <td>179.247894</td>\n",
       "      <td>316547</td>\n",
       "    </tr>\n",
       "    <tr>\n",
       "      <th>2023-09-11 15:56:00-04:00</th>\n",
       "      <td>179.244995</td>\n",
       "      <td>179.320007</td>\n",
       "      <td>179.240005</td>\n",
       "      <td>179.270004</td>\n",
       "      <td>179.270004</td>\n",
       "      <td>264829</td>\n",
       "    </tr>\n",
       "    <tr>\n",
       "      <th>2023-09-11 15:57:00-04:00</th>\n",
       "      <td>179.264999</td>\n",
       "      <td>179.330002</td>\n",
       "      <td>179.160004</td>\n",
       "      <td>179.264404</td>\n",
       "      <td>179.264404</td>\n",
       "      <td>367792</td>\n",
       "    </tr>\n",
       "    <tr>\n",
       "      <th>2023-09-11 15:58:00-04:00</th>\n",
       "      <td>179.264999</td>\n",
       "      <td>179.479996</td>\n",
       "      <td>179.259995</td>\n",
       "      <td>179.479996</td>\n",
       "      <td>179.479996</td>\n",
       "      <td>661697</td>\n",
       "    </tr>\n",
       "    <tr>\n",
       "      <th>2023-09-11 15:59:00-04:00</th>\n",
       "      <td>179.475006</td>\n",
       "      <td>179.479996</td>\n",
       "      <td>179.309998</td>\n",
       "      <td>179.380005</td>\n",
       "      <td>179.380005</td>\n",
       "      <td>729233</td>\n",
       "    </tr>\n",
       "  </tbody>\n",
       "</table>\n",
       "<p>2720 rows × 6 columns</p>\n",
       "</div>"
      ],
      "text/plain": [
       "                                 open        high         low       close  \\\n",
       "Datetime                                                                    \n",
       "2023-08-31 09:30:00-04:00  187.839996  188.100006  187.809998  188.089996   \n",
       "2023-08-31 09:31:00-04:00  188.100006  188.339996  188.029999  188.320007   \n",
       "2023-08-31 09:32:00-04:00  188.309998  188.369995  188.009995  188.070007   \n",
       "2023-08-31 09:33:00-04:00  188.085602  188.259995  187.800003  188.225006   \n",
       "2023-08-31 09:34:00-04:00  188.212997  188.270004  187.789993  187.789993   \n",
       "...                               ...         ...         ...         ...   \n",
       "2023-09-11 15:55:00-04:00  179.309998  179.330002  179.220001  179.247894   \n",
       "2023-09-11 15:56:00-04:00  179.244995  179.320007  179.240005  179.270004   \n",
       "2023-09-11 15:57:00-04:00  179.264999  179.330002  179.160004  179.264404   \n",
       "2023-09-11 15:58:00-04:00  179.264999  179.479996  179.259995  179.479996   \n",
       "2023-09-11 15:59:00-04:00  179.475006  179.479996  179.309998  179.380005   \n",
       "\n",
       "                            adj close   volume  \n",
       "Datetime                                        \n",
       "2023-08-31 09:30:00-04:00  188.089996  1444289  \n",
       "2023-08-31 09:31:00-04:00  188.320007   240389  \n",
       "2023-08-31 09:32:00-04:00  188.070007   227674  \n",
       "2023-08-31 09:33:00-04:00  188.225006   285393  \n",
       "2023-08-31 09:34:00-04:00  187.789993   184717  \n",
       "...                               ...      ...  \n",
       "2023-09-11 15:55:00-04:00  179.247894   316547  \n",
       "2023-09-11 15:56:00-04:00  179.270004   264829  \n",
       "2023-09-11 15:57:00-04:00  179.264404   367792  \n",
       "2023-09-11 15:58:00-04:00  179.479996   661697  \n",
       "2023-09-11 15:59:00-04:00  179.380005   729233  \n",
       "\n",
       "[2720 rows x 6 columns]"
      ]
     },
     "execution_count": 18,
     "metadata": {},
     "output_type": "execute_result"
    }
   ],
   "source": [
    "data = yf.download(' aapl ',period=\"7D\",interval=\"1m\")\n",
    "data=data.rename({\"High\":\"high\",\"Low\":\"low\",\"Close\":\"close\",\"Open\":\"open\",\"Adj Close\":\"adj close\",\"Volume\":\"volume\"},axis=1)\n",
    "\n",
    "data"
   ]
  },
  {
   "cell_type": "code",
   "execution_count": 19,
   "metadata": {},
   "outputs": [],
   "source": [
    "import torch\n",
    "import torch.nn as nn\n",
    "from torch.autograd import Variable"
   ]
  },
  {
   "cell_type": "code",
   "execution_count": 20,
   "metadata": {},
   "outputs": [
    {
     "data": {
      "text/plain": [
       "'cuda:0'"
      ]
     },
     "execution_count": 20,
     "metadata": {},
     "output_type": "execute_result"
    }
   ],
   "source": [
    "device= 'cuda:0' if torch.cuda.is_available() else 'cpu'\n",
    "device"
   ]
  },
  {
   "cell_type": "code",
   "execution_count": 21,
   "metadata": {},
   "outputs": [],
   "source": [
    "from copy import deepcopy as dc\n",
    "def prepareforlstm(df,loookback):\n",
    "    df=pd.DataFrame(df[\"close\"])\n",
    "    df=dc(df)\n",
    "    for i in range(1,loookback+1):\n",
    "        df[f'close(t-{i})']=df[\"close\"].shift(i)\n",
    "    df.dropna(inplace=True)\n",
    "    return df\n",
    "lookback=15"
   ]
  },
  {
   "cell_type": "code",
   "execution_count": 22,
   "metadata": {},
   "outputs": [
    {
     "data": {
      "text/html": [
       "<div>\n",
       "<style scoped>\n",
       "    .dataframe tbody tr th:only-of-type {\n",
       "        vertical-align: middle;\n",
       "    }\n",
       "\n",
       "    .dataframe tbody tr th {\n",
       "        vertical-align: top;\n",
       "    }\n",
       "\n",
       "    .dataframe thead th {\n",
       "        text-align: right;\n",
       "    }\n",
       "</style>\n",
       "<table border=\"1\" class=\"dataframe\">\n",
       "  <thead>\n",
       "    <tr style=\"text-align: right;\">\n",
       "      <th></th>\n",
       "      <th>close</th>\n",
       "      <th>close(t-1)</th>\n",
       "      <th>close(t-2)</th>\n",
       "      <th>close(t-3)</th>\n",
       "      <th>close(t-4)</th>\n",
       "      <th>close(t-5)</th>\n",
       "      <th>close(t-6)</th>\n",
       "      <th>close(t-7)</th>\n",
       "      <th>close(t-8)</th>\n",
       "      <th>close(t-9)</th>\n",
       "      <th>close(t-10)</th>\n",
       "      <th>close(t-11)</th>\n",
       "      <th>close(t-12)</th>\n",
       "      <th>close(t-13)</th>\n",
       "      <th>close(t-14)</th>\n",
       "      <th>close(t-15)</th>\n",
       "    </tr>\n",
       "    <tr>\n",
       "      <th>Datetime</th>\n",
       "      <th></th>\n",
       "      <th></th>\n",
       "      <th></th>\n",
       "      <th></th>\n",
       "      <th></th>\n",
       "      <th></th>\n",
       "      <th></th>\n",
       "      <th></th>\n",
       "      <th></th>\n",
       "      <th></th>\n",
       "      <th></th>\n",
       "      <th></th>\n",
       "      <th></th>\n",
       "      <th></th>\n",
       "      <th></th>\n",
       "      <th></th>\n",
       "    </tr>\n",
       "  </thead>\n",
       "  <tbody>\n",
       "    <tr>\n",
       "      <th>2023-08-31 09:45:00-04:00</th>\n",
       "      <td>188.360001</td>\n",
       "      <td>188.149994</td>\n",
       "      <td>188.029999</td>\n",
       "      <td>188.089996</td>\n",
       "      <td>188.259995</td>\n",
       "      <td>188.100006</td>\n",
       "      <td>188.180099</td>\n",
       "      <td>188.145004</td>\n",
       "      <td>187.925003</td>\n",
       "      <td>187.922897</td>\n",
       "      <td>187.750000</td>\n",
       "      <td>187.789993</td>\n",
       "      <td>188.225006</td>\n",
       "      <td>188.070007</td>\n",
       "      <td>188.320007</td>\n",
       "      <td>188.089996</td>\n",
       "    </tr>\n",
       "    <tr>\n",
       "      <th>2023-08-31 09:46:00-04:00</th>\n",
       "      <td>188.158493</td>\n",
       "      <td>188.360001</td>\n",
       "      <td>188.149994</td>\n",
       "      <td>188.029999</td>\n",
       "      <td>188.089996</td>\n",
       "      <td>188.259995</td>\n",
       "      <td>188.100006</td>\n",
       "      <td>188.180099</td>\n",
       "      <td>188.145004</td>\n",
       "      <td>187.925003</td>\n",
       "      <td>187.922897</td>\n",
       "      <td>187.750000</td>\n",
       "      <td>187.789993</td>\n",
       "      <td>188.225006</td>\n",
       "      <td>188.070007</td>\n",
       "      <td>188.320007</td>\n",
       "    </tr>\n",
       "    <tr>\n",
       "      <th>2023-08-31 09:47:00-04:00</th>\n",
       "      <td>188.029999</td>\n",
       "      <td>188.158493</td>\n",
       "      <td>188.360001</td>\n",
       "      <td>188.149994</td>\n",
       "      <td>188.029999</td>\n",
       "      <td>188.089996</td>\n",
       "      <td>188.259995</td>\n",
       "      <td>188.100006</td>\n",
       "      <td>188.180099</td>\n",
       "      <td>188.145004</td>\n",
       "      <td>187.925003</td>\n",
       "      <td>187.922897</td>\n",
       "      <td>187.750000</td>\n",
       "      <td>187.789993</td>\n",
       "      <td>188.225006</td>\n",
       "      <td>188.070007</td>\n",
       "    </tr>\n",
       "    <tr>\n",
       "      <th>2023-08-31 09:48:00-04:00</th>\n",
       "      <td>187.869995</td>\n",
       "      <td>188.029999</td>\n",
       "      <td>188.158493</td>\n",
       "      <td>188.360001</td>\n",
       "      <td>188.149994</td>\n",
       "      <td>188.029999</td>\n",
       "      <td>188.089996</td>\n",
       "      <td>188.259995</td>\n",
       "      <td>188.100006</td>\n",
       "      <td>188.180099</td>\n",
       "      <td>188.145004</td>\n",
       "      <td>187.925003</td>\n",
       "      <td>187.922897</td>\n",
       "      <td>187.750000</td>\n",
       "      <td>187.789993</td>\n",
       "      <td>188.225006</td>\n",
       "    </tr>\n",
       "    <tr>\n",
       "      <th>2023-08-31 09:49:00-04:00</th>\n",
       "      <td>187.910004</td>\n",
       "      <td>187.869995</td>\n",
       "      <td>188.029999</td>\n",
       "      <td>188.158493</td>\n",
       "      <td>188.360001</td>\n",
       "      <td>188.149994</td>\n",
       "      <td>188.029999</td>\n",
       "      <td>188.089996</td>\n",
       "      <td>188.259995</td>\n",
       "      <td>188.100006</td>\n",
       "      <td>188.180099</td>\n",
       "      <td>188.145004</td>\n",
       "      <td>187.925003</td>\n",
       "      <td>187.922897</td>\n",
       "      <td>187.750000</td>\n",
       "      <td>187.789993</td>\n",
       "    </tr>\n",
       "    <tr>\n",
       "      <th>...</th>\n",
       "      <td>...</td>\n",
       "      <td>...</td>\n",
       "      <td>...</td>\n",
       "      <td>...</td>\n",
       "      <td>...</td>\n",
       "      <td>...</td>\n",
       "      <td>...</td>\n",
       "      <td>...</td>\n",
       "      <td>...</td>\n",
       "      <td>...</td>\n",
       "      <td>...</td>\n",
       "      <td>...</td>\n",
       "      <td>...</td>\n",
       "      <td>...</td>\n",
       "      <td>...</td>\n",
       "      <td>...</td>\n",
       "    </tr>\n",
       "    <tr>\n",
       "      <th>2023-09-11 15:55:00-04:00</th>\n",
       "      <td>179.247894</td>\n",
       "      <td>179.309998</td>\n",
       "      <td>179.360001</td>\n",
       "      <td>179.339996</td>\n",
       "      <td>179.389999</td>\n",
       "      <td>179.399994</td>\n",
       "      <td>179.609894</td>\n",
       "      <td>179.570007</td>\n",
       "      <td>179.600006</td>\n",
       "      <td>179.664993</td>\n",
       "      <td>179.580002</td>\n",
       "      <td>179.679993</td>\n",
       "      <td>179.649994</td>\n",
       "      <td>179.669998</td>\n",
       "      <td>179.729996</td>\n",
       "      <td>179.750000</td>\n",
       "    </tr>\n",
       "    <tr>\n",
       "      <th>2023-09-11 15:56:00-04:00</th>\n",
       "      <td>179.270004</td>\n",
       "      <td>179.247894</td>\n",
       "      <td>179.309998</td>\n",
       "      <td>179.360001</td>\n",
       "      <td>179.339996</td>\n",
       "      <td>179.389999</td>\n",
       "      <td>179.399994</td>\n",
       "      <td>179.609894</td>\n",
       "      <td>179.570007</td>\n",
       "      <td>179.600006</td>\n",
       "      <td>179.664993</td>\n",
       "      <td>179.580002</td>\n",
       "      <td>179.679993</td>\n",
       "      <td>179.649994</td>\n",
       "      <td>179.669998</td>\n",
       "      <td>179.729996</td>\n",
       "    </tr>\n",
       "    <tr>\n",
       "      <th>2023-09-11 15:57:00-04:00</th>\n",
       "      <td>179.264404</td>\n",
       "      <td>179.270004</td>\n",
       "      <td>179.247894</td>\n",
       "      <td>179.309998</td>\n",
       "      <td>179.360001</td>\n",
       "      <td>179.339996</td>\n",
       "      <td>179.389999</td>\n",
       "      <td>179.399994</td>\n",
       "      <td>179.609894</td>\n",
       "      <td>179.570007</td>\n",
       "      <td>179.600006</td>\n",
       "      <td>179.664993</td>\n",
       "      <td>179.580002</td>\n",
       "      <td>179.679993</td>\n",
       "      <td>179.649994</td>\n",
       "      <td>179.669998</td>\n",
       "    </tr>\n",
       "    <tr>\n",
       "      <th>2023-09-11 15:58:00-04:00</th>\n",
       "      <td>179.479996</td>\n",
       "      <td>179.264404</td>\n",
       "      <td>179.270004</td>\n",
       "      <td>179.247894</td>\n",
       "      <td>179.309998</td>\n",
       "      <td>179.360001</td>\n",
       "      <td>179.339996</td>\n",
       "      <td>179.389999</td>\n",
       "      <td>179.399994</td>\n",
       "      <td>179.609894</td>\n",
       "      <td>179.570007</td>\n",
       "      <td>179.600006</td>\n",
       "      <td>179.664993</td>\n",
       "      <td>179.580002</td>\n",
       "      <td>179.679993</td>\n",
       "      <td>179.649994</td>\n",
       "    </tr>\n",
       "    <tr>\n",
       "      <th>2023-09-11 15:59:00-04:00</th>\n",
       "      <td>179.380005</td>\n",
       "      <td>179.479996</td>\n",
       "      <td>179.264404</td>\n",
       "      <td>179.270004</td>\n",
       "      <td>179.247894</td>\n",
       "      <td>179.309998</td>\n",
       "      <td>179.360001</td>\n",
       "      <td>179.339996</td>\n",
       "      <td>179.389999</td>\n",
       "      <td>179.399994</td>\n",
       "      <td>179.609894</td>\n",
       "      <td>179.570007</td>\n",
       "      <td>179.600006</td>\n",
       "      <td>179.664993</td>\n",
       "      <td>179.580002</td>\n",
       "      <td>179.679993</td>\n",
       "    </tr>\n",
       "  </tbody>\n",
       "</table>\n",
       "<p>2705 rows × 16 columns</p>\n",
       "</div>"
      ],
      "text/plain": [
       "                                close  close(t-1)  close(t-2)  close(t-3)  \\\n",
       "Datetime                                                                    \n",
       "2023-08-31 09:45:00-04:00  188.360001  188.149994  188.029999  188.089996   \n",
       "2023-08-31 09:46:00-04:00  188.158493  188.360001  188.149994  188.029999   \n",
       "2023-08-31 09:47:00-04:00  188.029999  188.158493  188.360001  188.149994   \n",
       "2023-08-31 09:48:00-04:00  187.869995  188.029999  188.158493  188.360001   \n",
       "2023-08-31 09:49:00-04:00  187.910004  187.869995  188.029999  188.158493   \n",
       "...                               ...         ...         ...         ...   \n",
       "2023-09-11 15:55:00-04:00  179.247894  179.309998  179.360001  179.339996   \n",
       "2023-09-11 15:56:00-04:00  179.270004  179.247894  179.309998  179.360001   \n",
       "2023-09-11 15:57:00-04:00  179.264404  179.270004  179.247894  179.309998   \n",
       "2023-09-11 15:58:00-04:00  179.479996  179.264404  179.270004  179.247894   \n",
       "2023-09-11 15:59:00-04:00  179.380005  179.479996  179.264404  179.270004   \n",
       "\n",
       "                           close(t-4)  close(t-5)  close(t-6)  close(t-7)  \\\n",
       "Datetime                                                                    \n",
       "2023-08-31 09:45:00-04:00  188.259995  188.100006  188.180099  188.145004   \n",
       "2023-08-31 09:46:00-04:00  188.089996  188.259995  188.100006  188.180099   \n",
       "2023-08-31 09:47:00-04:00  188.029999  188.089996  188.259995  188.100006   \n",
       "2023-08-31 09:48:00-04:00  188.149994  188.029999  188.089996  188.259995   \n",
       "2023-08-31 09:49:00-04:00  188.360001  188.149994  188.029999  188.089996   \n",
       "...                               ...         ...         ...         ...   \n",
       "2023-09-11 15:55:00-04:00  179.389999  179.399994  179.609894  179.570007   \n",
       "2023-09-11 15:56:00-04:00  179.339996  179.389999  179.399994  179.609894   \n",
       "2023-09-11 15:57:00-04:00  179.360001  179.339996  179.389999  179.399994   \n",
       "2023-09-11 15:58:00-04:00  179.309998  179.360001  179.339996  179.389999   \n",
       "2023-09-11 15:59:00-04:00  179.247894  179.309998  179.360001  179.339996   \n",
       "\n",
       "                           close(t-8)  close(t-9)  close(t-10)  close(t-11)  \\\n",
       "Datetime                                                                      \n",
       "2023-08-31 09:45:00-04:00  187.925003  187.922897   187.750000   187.789993   \n",
       "2023-08-31 09:46:00-04:00  188.145004  187.925003   187.922897   187.750000   \n",
       "2023-08-31 09:47:00-04:00  188.180099  188.145004   187.925003   187.922897   \n",
       "2023-08-31 09:48:00-04:00  188.100006  188.180099   188.145004   187.925003   \n",
       "2023-08-31 09:49:00-04:00  188.259995  188.100006   188.180099   188.145004   \n",
       "...                               ...         ...          ...          ...   \n",
       "2023-09-11 15:55:00-04:00  179.600006  179.664993   179.580002   179.679993   \n",
       "2023-09-11 15:56:00-04:00  179.570007  179.600006   179.664993   179.580002   \n",
       "2023-09-11 15:57:00-04:00  179.609894  179.570007   179.600006   179.664993   \n",
       "2023-09-11 15:58:00-04:00  179.399994  179.609894   179.570007   179.600006   \n",
       "2023-09-11 15:59:00-04:00  179.389999  179.399994   179.609894   179.570007   \n",
       "\n",
       "                           close(t-12)  close(t-13)  close(t-14)  close(t-15)  \n",
       "Datetime                                                                       \n",
       "2023-08-31 09:45:00-04:00   188.225006   188.070007   188.320007   188.089996  \n",
       "2023-08-31 09:46:00-04:00   187.789993   188.225006   188.070007   188.320007  \n",
       "2023-08-31 09:47:00-04:00   187.750000   187.789993   188.225006   188.070007  \n",
       "2023-08-31 09:48:00-04:00   187.922897   187.750000   187.789993   188.225006  \n",
       "2023-08-31 09:49:00-04:00   187.925003   187.922897   187.750000   187.789993  \n",
       "...                                ...          ...          ...          ...  \n",
       "2023-09-11 15:55:00-04:00   179.649994   179.669998   179.729996   179.750000  \n",
       "2023-09-11 15:56:00-04:00   179.679993   179.649994   179.669998   179.729996  \n",
       "2023-09-11 15:57:00-04:00   179.580002   179.679993   179.649994   179.669998  \n",
       "2023-09-11 15:58:00-04:00   179.664993   179.580002   179.679993   179.649994  \n",
       "2023-09-11 15:59:00-04:00   179.600006   179.664993   179.580002   179.679993  \n",
       "\n",
       "[2705 rows x 16 columns]"
      ]
     },
     "execution_count": 22,
     "metadata": {},
     "output_type": "execute_result"
    }
   ],
   "source": [
    "shifted_df=prepareforlstm(data,lookback)\n",
    "shifted_df"
   ]
  },
  {
   "cell_type": "code",
   "execution_count": 23,
   "metadata": {},
   "outputs": [
    {
     "data": {
      "text/plain": [
       "array([[ 0.8036536 ,  0.77763853,  0.76277386, ...,  0.76773001,\n",
       "         0.79869934,  0.77020619],\n",
       "       [ 0.77869138,  0.8036536 ,  0.77763853, ...,  0.78693084,\n",
       "         0.76773001,  0.79869934],\n",
       "       [ 0.76277386,  0.77869138,  0.8036536 , ...,  0.73304262,\n",
       "         0.78693084,  0.76773001],\n",
       "       ...,\n",
       "       [-0.32308457, -0.32239086, -0.32512979, ..., -0.27160259,\n",
       "        -0.27531876, -0.27284069],\n",
       "       [-0.29637768, -0.32308457, -0.32239086, ..., -0.28398919,\n",
       "        -0.27160259, -0.27531876],\n",
       "       [-0.30876428, -0.29637768, -0.32308457, ..., -0.27346068,\n",
       "        -0.28398919, -0.27160259]])"
      ]
     },
     "execution_count": 23,
     "metadata": {},
     "output_type": "execute_result"
    }
   ],
   "source": [
    "from sklearn.preprocessing import MinMaxScaler\n",
    "scalar=MinMaxScaler(feature_range=(-1,1))\n",
    "shifted_df_as_np=scalar.fit_transform(shifted_df)\n",
    "shifted_df_as_np"
   ]
  },
  {
   "cell_type": "code",
   "execution_count": 24,
   "metadata": {},
   "outputs": [
    {
     "data": {
      "text/plain": [
       "((2705, 15), (2705,))"
      ]
     },
     "execution_count": 24,
     "metadata": {},
     "output_type": "execute_result"
    }
   ],
   "source": [
    "x=shifted_df_as_np[:,1:]\n",
    "y=shifted_df_as_np[:,0]\n",
    "x.shape,y.shape"
   ]
  },
  {
   "cell_type": "code",
   "execution_count": 25,
   "metadata": {},
   "outputs": [],
   "source": [
    "split_index=int(len(x)*0.95)"
   ]
  },
  {
   "cell_type": "code",
   "execution_count": 26,
   "metadata": {},
   "outputs": [
    {
     "data": {
      "text/plain": [
       "((38535, 1), (2040, 1))"
      ]
     },
     "execution_count": 26,
     "metadata": {},
     "output_type": "execute_result"
    }
   ],
   "source": [
    "x[:split_index].reshape((-1,1)).shape ,x[split_index:].reshape((-1,1)).shape"
   ]
  },
  {
   "cell_type": "code",
   "execution_count": 27,
   "metadata": {},
   "outputs": [
    {
     "data": {
      "text/plain": [
       "(torch.Size([2569, 15, 1]),\n",
       " torch.Size([136, 15, 1]),\n",
       " torch.Size([2569, 1]),\n",
       " torch.Size([136, 1]))"
      ]
     },
     "execution_count": 27,
     "metadata": {},
     "output_type": "execute_result"
    }
   ],
   "source": [
    "x_train=torch.tensor(x[:split_index].reshape((-1,lookback,1))).float()\n",
    "x_test=torch.tensor(x[split_index:].reshape((-1,lookback,1))).float()\n",
    "y_train=torch.tensor(y[:split_index].reshape((-1,1))).float()\n",
    "y_test=torch.tensor(y[split_index:].reshape((-1,1))).float()\n",
    "x_train.shape,x_test.shape,y_train.shape,y_test.shape"
   ]
  },
  {
   "cell_type": "code",
   "execution_count": 28,
   "metadata": {},
   "outputs": [],
   "source": [
    "from torch.utils.data import Dataset,DataLoader\n",
    "class TimeSeriesDataset(Dataset):\n",
    "    def __init__(self,x,y):\n",
    "        self.x=x\n",
    "        self.y=y\n",
    "    def __len__(self):\n",
    "        return len(self.x)\n",
    "    def __getitem__(self,i):\n",
    "        return self.x[i],self.y[i]\n",
    "    "
   ]
  },
  {
   "cell_type": "code",
   "execution_count": 29,
   "metadata": {},
   "outputs": [],
   "source": [
    "trainds=TimeSeriesDataset(x_train,y_train)\n",
    "testds=TimeSeriesDataset(x_test,y_test)"
   ]
  },
  {
   "cell_type": "code",
   "execution_count": 30,
   "metadata": {},
   "outputs": [],
   "source": [
    "batch_size=16\n",
    "train_loader=DataLoader(trainds,batch_size=batch_size,shuffle=True)\n",
    "test_loader=DataLoader(testds,batch_size=batch_size,shuffle=True)"
   ]
  },
  {
   "cell_type": "code",
   "execution_count": 31,
   "metadata": {},
   "outputs": [],
   "source": [
    "class Model(nn.Module):\n",
    "    def __init__(self, input_size, output_size, hidden_dim, n_layers):\n",
    "        super(Model, self).__init__()\n",
    "\n",
    "        # Defining some parameters\n",
    "        self.hidden_dim = hidden_dim\n",
    "        self.n_layers = n_layers\n",
    "\n",
    "        #Defining the layers\n",
    "        # RNN Layer\n",
    "        self.rnn = nn.Conv1d(input_size, hidden_dim, n_layers, batch_first=True)   \n",
    "        # Fully connected layer\n",
    "        self.fc = nn.Linear(hidden_dim, output_size)\n",
    "    \n",
    "    def forward(self, x):\n",
    "        \n",
    "        batch_size = x.size(0)\n",
    "        h0=torch.zeros(self.n_layers,batch_size,self.hidden_dim,device=x.device)\n",
    "        out,_=self.rnn(x,h0.detach())\n",
    "        out=out[:,-1,:]\n",
    "        out=self.fc(out)\n",
    "        return out\n",
    "    \n"
   ]
  },
  {
   "cell_type": "code",
   "execution_count": 32,
   "metadata": {},
   "outputs": [
    {
     "ename": "TypeError",
     "evalue": "__init__() got an unexpected keyword argument 'batch_first'",
     "output_type": "error",
     "traceback": [
      "\u001b[0;31m---------------------------------------------------------------------------\u001b[0m",
      "\u001b[0;31mTypeError\u001b[0m                                 Traceback (most recent call last)",
      "Cell \u001b[0;32mIn[32], line 1\u001b[0m\n\u001b[0;32m----> 1\u001b[0m model\u001b[39m=\u001b[39mModel(\u001b[39m1\u001b[39;49m,\u001b[39m4\u001b[39;49m,\u001b[39m15\u001b[39;49m,\u001b[39m1\u001b[39;49m)\n\u001b[1;32m      2\u001b[0m model\u001b[39m.\u001b[39mto(device)\n\u001b[1;32m      3\u001b[0m model\n",
      "Cell \u001b[0;32mIn[31], line 11\u001b[0m, in \u001b[0;36mModel.__init__\u001b[0;34m(self, input_size, output_size, hidden_dim, n_layers)\u001b[0m\n\u001b[1;32m      7\u001b[0m \u001b[39mself\u001b[39m\u001b[39m.\u001b[39mn_layers \u001b[39m=\u001b[39m n_layers\n\u001b[1;32m      9\u001b[0m \u001b[39m#Defining the layers\u001b[39;00m\n\u001b[1;32m     10\u001b[0m \u001b[39m# RNN Layer\u001b[39;00m\n\u001b[0;32m---> 11\u001b[0m \u001b[39mself\u001b[39m\u001b[39m.\u001b[39mrnn \u001b[39m=\u001b[39m nn\u001b[39m.\u001b[39;49mConv1d(input_size, hidden_dim, n_layers, batch_first\u001b[39m=\u001b[39;49m\u001b[39mTrue\u001b[39;49;00m)   \n\u001b[1;32m     12\u001b[0m \u001b[39m# Fully connected layer\u001b[39;00m\n\u001b[1;32m     13\u001b[0m \u001b[39mself\u001b[39m\u001b[39m.\u001b[39mfc \u001b[39m=\u001b[39m nn\u001b[39m.\u001b[39mLinear(hidden_dim, output_size)\n",
      "\u001b[0;31mTypeError\u001b[0m: __init__() got an unexpected keyword argument 'batch_first'"
     ]
    }
   ],
   "source": [
    "model=Model(1,4,15,1)\n",
    "model.to(device)\n",
    "model"
   ]
  },
  {
   "cell_type": "code",
   "execution_count": null,
   "metadata": {},
   "outputs": [],
   "source": [
    "def train_one_epoch():\n",
    "    model.train(True)\n",
    "    print(f'Epoch: {epoch*1}')\n",
    "    running_loss=0.0\n",
    "    for batch_index,batch in enumerate(train_loader):\n",
    "        x_batch,y_batch=batch[0].to(device),batch[1].to(device)\n",
    "        output=model(x_batch)\n",
    "        loss=loss_function(output,y_batch)\n",
    "        running_loss+=loss\n",
    "        optimizer.zero_grad()\n",
    "        loss.backward()\n",
    "        optimizer.step()\n",
    "        if batch_index %100==99:\n",
    "            avg_loss_across_batches=running_loss/100\n",
    "            print('Batch {0},loss:{1:.3f}'.format(batch_index+1,avg_loss_across_batches))\n",
    "            running_loss=0.0\n",
    "    print()"
   ]
  },
  {
   "cell_type": "code",
   "execution_count": null,
   "metadata": {},
   "outputs": [],
   "source": [
    "def validate_one_epoch():\n",
    "    model.train(False)\n",
    "    running_lose=0.0\n",
    "    for batch_index,batch in enumerate(test_loader):\n",
    "        x_batch,y_batch=batch[0].to(device),batch[1].to(device)\n",
    "        with torch.no_grad():\n",
    "            output=model(x_batch)\n",
    "            loss=loss_function(output,y_batch)\n",
    "            running_lose+=loss.item()\n",
    "    avg_loss_across_batches=running_lose/len(test_loader)\n",
    "    print('Val loss {0:.3f}'.format(avg_loss_across_batches))\n",
    "    print('*************************************')\n",
    "    print()"
   ]
  },
  {
   "cell_type": "code",
   "execution_count": null,
   "metadata": {},
   "outputs": [
    {
     "name": "stdout",
     "output_type": "stream",
     "text": [
      "Epoch: 0\n"
     ]
    },
    {
     "name": "stderr",
     "output_type": "stream",
     "text": [
      "/home/batuhan-saylam/miniconda3/envs/tf/lib/python3.9/site-packages/torch/nn/modules/loss.py:536: UserWarning: Using a target size (torch.Size([16, 1])) that is different to the input size (torch.Size([16, 4])). This will likely lead to incorrect results due to broadcasting. Please ensure they have the same size.\n",
      "  return F.mse_loss(input, target, reduction=self.reduction)\n"
     ]
    },
    {
     "name": "stdout",
     "output_type": "stream",
     "text": [
      "Batch 100,loss:0.362\n",
      "\n",
      "Val loss 0.010\n",
      "*************************************\n",
      "\n",
      "Epoch: 1\n"
     ]
    },
    {
     "name": "stderr",
     "output_type": "stream",
     "text": [
      "/home/batuhan-saylam/miniconda3/envs/tf/lib/python3.9/site-packages/torch/nn/modules/loss.py:536: UserWarning: Using a target size (torch.Size([10, 1])) that is different to the input size (torch.Size([10, 4])). This will likely lead to incorrect results due to broadcasting. Please ensure they have the same size.\n",
      "  return F.mse_loss(input, target, reduction=self.reduction)\n",
      "/home/batuhan-saylam/miniconda3/envs/tf/lib/python3.9/site-packages/torch/nn/modules/loss.py:536: UserWarning: Using a target size (torch.Size([8, 1])) that is different to the input size (torch.Size([8, 4])). This will likely lead to incorrect results due to broadcasting. Please ensure they have the same size.\n",
      "  return F.mse_loss(input, target, reduction=self.reduction)\n"
     ]
    },
    {
     "name": "stdout",
     "output_type": "stream",
     "text": [
      "Batch 100,loss:0.012\n",
      "\n",
      "Val loss 0.002\n",
      "*************************************\n",
      "\n",
      "Epoch: 2\n",
      "Batch 100,loss:0.008\n",
      "\n",
      "Val loss 0.002\n",
      "*************************************\n",
      "\n",
      "Epoch: 3\n",
      "Batch 100,loss:0.007\n",
      "\n",
      "Val loss 0.001\n",
      "*************************************\n",
      "\n",
      "Epoch: 4\n",
      "Batch 100,loss:0.006\n",
      "\n",
      "Val loss 0.002\n",
      "*************************************\n",
      "\n",
      "Epoch: 5\n",
      "Batch 100,loss:0.007\n",
      "\n",
      "Val loss 0.001\n",
      "*************************************\n",
      "\n",
      "Epoch: 6\n",
      "Batch 100,loss:0.006\n",
      "\n",
      "Val loss 0.001\n",
      "*************************************\n",
      "\n",
      "Epoch: 7\n",
      "Batch 100,loss:0.008\n",
      "\n",
      "Val loss 0.006\n",
      "*************************************\n",
      "\n",
      "Epoch: 8\n",
      "Batch 100,loss:0.007\n",
      "\n",
      "Val loss 0.001\n",
      "*************************************\n",
      "\n",
      "Epoch: 9\n",
      "Batch 100,loss:0.007\n",
      "\n",
      "Val loss 0.001\n",
      "*************************************\n",
      "\n",
      "Epoch: 10\n",
      "Batch 100,loss:0.006\n",
      "\n",
      "Val loss 0.001\n",
      "*************************************\n",
      "\n",
      "Epoch: 11\n",
      "Batch 100,loss:0.006\n",
      "\n",
      "Val loss 0.001\n",
      "*************************************\n",
      "\n",
      "Epoch: 12\n",
      "Batch 100,loss:0.006\n",
      "\n",
      "Val loss 0.001\n",
      "*************************************\n",
      "\n",
      "Epoch: 13\n",
      "Batch 100,loss:0.007\n",
      "\n",
      "Val loss 0.001\n",
      "*************************************\n",
      "\n",
      "Epoch: 14\n",
      "Batch 100,loss:0.007\n",
      "\n",
      "Val loss 0.003\n",
      "*************************************\n",
      "\n",
      "Epoch: 15\n",
      "Batch 100,loss:0.005\n",
      "\n",
      "Val loss 0.001\n",
      "*************************************\n",
      "\n",
      "Epoch: 16\n",
      "Batch 100,loss:0.005\n",
      "\n",
      "Val loss 0.001\n",
      "*************************************\n",
      "\n",
      "Epoch: 17\n",
      "Batch 100,loss:0.005\n",
      "\n",
      "Val loss 0.001\n",
      "*************************************\n",
      "\n",
      "Epoch: 18\n",
      "Batch 100,loss:0.006\n",
      "\n",
      "Val loss 0.001\n",
      "*************************************\n",
      "\n",
      "Epoch: 19\n",
      "Batch 100,loss:0.005\n",
      "\n",
      "Val loss 0.001\n",
      "*************************************\n",
      "\n",
      "Epoch: 20\n",
      "Batch 100,loss:0.004\n",
      "\n",
      "Val loss 0.001\n",
      "*************************************\n",
      "\n",
      "Epoch: 21\n",
      "Batch 100,loss:0.004\n",
      "\n",
      "Val loss 0.001\n",
      "*************************************\n",
      "\n",
      "Epoch: 22\n",
      "Batch 100,loss:0.005\n",
      "\n",
      "Val loss 0.002\n",
      "*************************************\n",
      "\n",
      "Epoch: 23\n",
      "Batch 100,loss:0.005\n",
      "\n",
      "Val loss 0.002\n",
      "*************************************\n",
      "\n",
      "Epoch: 24\n",
      "Batch 100,loss:0.004\n",
      "\n",
      "Val loss 0.001\n",
      "*************************************\n",
      "\n",
      "Epoch: 25\n",
      "Batch 100,loss:0.003\n",
      "\n",
      "Val loss 0.002\n",
      "*************************************\n",
      "\n",
      "Epoch: 26\n",
      "Batch 100,loss:0.004\n",
      "\n",
      "Val loss 0.001\n",
      "*************************************\n",
      "\n",
      "Epoch: 27\n",
      "Batch 100,loss:0.003\n",
      "\n",
      "Val loss 0.025\n",
      "*************************************\n",
      "\n",
      "Epoch: 28\n",
      "Batch 100,loss:0.004\n",
      "\n",
      "Val loss 0.001\n",
      "*************************************\n",
      "\n",
      "Epoch: 29\n",
      "Batch 100,loss:0.003\n",
      "\n",
      "Val loss 0.001\n",
      "*************************************\n",
      "\n"
     ]
    }
   ],
   "source": [
    "learning_rate=0.001\n",
    "num_epochs=30\n",
    "loss_function=nn.MSELoss()\n",
    "optimizer=torch.optim.Adam(model.parameters(),lr=learning_rate)\n",
    "for epoch in range(num_epochs):\n",
    "    train_one_epoch()\n",
    "    validate_one_epoch()"
   ]
  },
  {
   "cell_type": "code",
   "execution_count": null,
   "metadata": {},
   "outputs": [],
   "source": [
    "with torch.no_grad():\n",
    "    predicted=model(x_train.to(device)).to('cpu').numpy()\n",
    "    "
   ]
  },
  {
   "cell_type": "code",
   "execution_count": null,
   "metadata": {},
   "outputs": [],
   "source": [
    "torch.cuda.empty_cache()"
   ]
  },
  {
   "cell_type": "code",
   "execution_count": null,
   "metadata": {},
   "outputs": [],
   "source": [
    "import matplotlib.pyplot as plt"
   ]
  },
  {
   "cell_type": "code",
   "execution_count": null,
   "metadata": {},
   "outputs": [
    {
     "data": {
      "image/png": "[encoded data removed]",
      "text/plain": [
       "<Figure size 640x480 with 1 Axes>"
      ]
     },
     "metadata": {},
     "output_type": "display_data"
    }
   ],
   "source": [
    "plt.plot(y_train,label=\"Actual\")\n",
    "plt.plot(predicted[:,0],label='predicted')\n",
    "plt.xlabel(\"Time\")\n",
    "plt.ylabel(\"Close\")\n",
    "plt.legend()\n",
    "plt.show()"
   ]
  },
  {
   "cell_type": "code",
   "execution_count": null,
   "metadata": {},
   "outputs": [
    {
     "data": {
      "text/plain": [
       "array([184.87740261, 184.89971033, 184.88534221, ..., 179.73483868,\n",
       "       179.7633252 , 179.78797976])"
      ]
     },
     "execution_count": 30,
     "metadata": {},
     "output_type": "execute_result"
    }
   ],
   "source": [
    "dummies=np.zeros((x_train.shape[0],lookback+1))\n",
    "dummies[:,0]=predicted[:,0]\n",
    "dummies=scalar.inverse_transform(dummies)\n",
    "train_prediction=dc(dummies[:,0])\n",
    "train_prediction"
   ]
  },
  {
   "cell_type": "code",
   "execution_count": null,
   "metadata": {},
   "outputs": [
    {
     "data": {
      "text/plain": [
       "array([185.8300019 , 185.74999989, 185.74000551, ..., 179.89999385,\n",
       "       179.89920042, 179.77000416])"
      ]
     },
     "execution_count": 31,
     "metadata": {},
     "output_type": "execute_result"
    }
   ],
   "source": [
    "dummies=np.zeros((x_train.shape[0],lookback+1))\n",
    "dummies[:,0]=y_train.flatten()\n",
    "dummies=scalar.inverse_transform(dummies)\n",
    "new_y_train=dc(dummies[:,0])\n",
    "new_y_train"
   ]
  },
  {
   "cell_type": "code",
   "execution_count": null,
   "metadata": {},
   "outputs": [
    {
     "data": {
      "image/png": "[encoded data removed]",
      "text/plain": [
       "<Figure size 640x480 with 1 Axes>"
      ]
     },
     "metadata": {},
     "output_type": "display_data"
    }
   ],
   "source": [
    "plt.plot(new_y_train,label=\"Actual\")\n",
    "plt.plot(train_prediction,label='predicted')\n",
    "plt.xlabel(\"Time\")\n",
    "plt.ylabel(\"Close\")\n",
    "plt.legend()\n",
    "plt.show()"
   ]
  },
  {
   "cell_type": "code",
   "execution_count": null,
   "metadata": {},
   "outputs": [
    {
     "data": {
      "text/plain": [
       "array([179.79772708, 179.78679275, 179.791766  , 179.79111307,\n",
       "       179.78747503, 179.78070176, 179.77974137, 179.76226905,\n",
       "       179.7433523 , 179.73055926, 179.71397516, 179.69353458,\n",
       "       179.6702951 , 179.65832484, 179.65690734, 179.65952773,\n",
       "       179.65735242, 179.66323506, 179.68174523, 179.7015579 ,\n",
       "       179.71371486, 179.72600268, 179.74240586, 179.74043889,\n",
       "       179.72460925, 179.72284965, 179.71702859, 179.68973247,\n",
       "       179.61450765, 179.54380427, 179.46592442, 179.37452497,\n",
       "       179.27806325, 179.17447125, 179.09853383, 179.04287965,\n",
       "       178.9936937 , 178.93856543, 178.932524  , 178.91360436,\n",
       "       178.89402746, 178.86663847, 178.85965686, 178.83586741,\n",
       "       178.82799951, 178.81352818, 178.80506219, 178.80612026,\n",
       "       178.77595547, 178.75400742, 178.72995814, 178.7217414 ,\n",
       "       178.72558393, 178.73032816, 178.71611184, 178.65347125,\n",
       "       178.57502555, 178.55007844, 178.53907482, 178.5220495 ,\n",
       "       178.50920161, 178.49577728, 178.5030192 , 178.4887158 ,\n",
       "       178.47372915, 178.45316154, 178.418534  , 178.38114557,\n",
       "       178.32797081, 178.28044677, 178.26186442, 178.2025929 ,\n",
       "       178.15278143, 178.13158591, 178.11557488, 178.09303645,\n",
       "       178.06250838, 178.02118311, 177.97246724, 177.95162682,\n",
       "       177.93455819, 177.93686102, 177.94978157, 177.96035311,\n",
       "       177.97143948, 177.98588723, 178.00653519, 178.01565844,\n",
       "       178.01823312, 178.02189378, 178.02372603, 178.0289721 ,\n",
       "       178.04718444, 178.04047083, 178.02684875, 177.99266339,\n",
       "       177.96231094, 177.93912054, 177.89285762, 177.87052272,\n",
       "       177.87706744, 177.8701758 , 177.86323605, 177.86073018,\n",
       "       177.83928109, 177.81523422, 177.79467576, 177.78649751,\n",
       "       177.80197734, 177.81117084, 177.82097348, 177.82847667,\n",
       "       177.84985118, 177.86157461, 177.85467047, 177.84967123,\n",
       "       177.85504866, 177.84609959, 177.83025985, 177.82347888,\n",
       "       177.81981052, 177.82454224, 177.81691058, 177.81307911,\n",
       "       177.82081663, 177.81437921, 177.7941946 , 177.78557657,\n",
       "       177.78094686, 177.76293421, 177.74798124, 177.7485721 ,\n",
       "       177.77195641, 177.79587144, 177.81415306, 177.83003226])"
      ]
     },
     "execution_count": 33,
     "metadata": {},
     "output_type": "execute_result"
    }
   ],
   "source": [
    "dummies=np.zeros((x_test.shape[0],lookback+1))\n",
    "dummies[:,:4]=model(x_test.to(device)).detach().cpu().numpy()\n",
    "dummies=scalar.inverse_transform(dummies)\n",
    "test_prediction=dc(dummies[:,0])\n",
    "test_prediction"
   ]
  },
  {
   "cell_type": "code",
   "execution_count": null,
   "metadata": {},
   "outputs": [
    {
     "data": {
      "text/plain": [
       "array([179.74999999, 179.76499939, 179.74499522, 179.72000119,\n",
       "       179.73500059, 179.71000681, 179.65499883, 179.59860223,\n",
       "       179.66499321, 179.61999502, 179.57940664, 179.58959951,\n",
       "       179.67999261, 179.68600469, 179.71000681, 179.69999702,\n",
       "       179.74999999, 179.82499698, 179.86999518, 179.83920295,\n",
       "       179.83000175, 179.81500235, 179.7400056 , 179.6150054 ,\n",
       "       179.65499883, 179.60000601, 179.49789428, 179.16000377,\n",
       "       179.13999936, 179.0149994 , 178.88999944, 178.83000185,\n",
       "       178.75999447, 178.85499563, 178.94500742, 178.9850006 ,\n",
       "       178.92999262, 179.14129632, 179.11000056, 179.11010738,\n",
       "       179.07499699, 179.02520742, 178.92999262, 178.9700012 ,\n",
       "       178.86999503, 178.88020329, 178.87500004, 178.71000666,\n",
       "       178.76780704, 178.75999447, 178.77499387, 178.96000682,\n",
       "       178.96769718, 178.88009648, 178.55999752, 178.38900746,\n",
       "       178.5850067 , 178.69000249, 178.6150055 , 178.6600037 ,\n",
       "       178.69000249, 178.72900401, 178.6300049 , 178.6000061 ,\n",
       "       178.50959784, 178.48500053, 178.46000675, 178.35740665,\n",
       "       178.23199458, 178.2599944 , 178.0401001 , 178.11010747,\n",
       "       178.21000683, 178.2599944 , 178.22500599, 178.20500182,\n",
       "       178.05999745, 177.9700013 , 178.0814973 , 178.08999625,\n",
       "       178.2498932 , 178.33000178, 178.27999881, 178.3699952 ,\n",
       "       178.27000418, 178.3399964 , 178.30000298, 178.2899932 ,\n",
       "       178.28500358, 178.30000298, 178.27209482, 178.30000298,\n",
       "       178.18499765, 178.08500663, 177.9700013 , 178.0000001 ,\n",
       "       177.9700013 , 177.84779351, 177.91499332, 178.16999825,\n",
       "       178.07000723, 178.08000186, 178.10499565, 177.9700013 ,\n",
       "       177.90240477, 177.94500728, 177.98880017, 178.16000362,\n",
       "       178.07499685, 178.13000483, 178.13000483, 178.16000362,\n",
       "       178.07499685, 178.09109497, 178.02999889, 178.11000066,\n",
       "       178.05000306, 177.93499749, 177.9400025 , 177.96000667,\n",
       "       178.0000001 , 178.02000427, 177.9850007 , 178.11000066,\n",
       "       178.00010691, 177.92500311, 177.9400025 , 177.9850007 ,\n",
       "       177.82000732, 177.8899993 , 177.99499509, 178.13000483,\n",
       "       178.17019649, 178.16000362, 178.17500302, 178.19000242])"
      ]
     },
     "execution_count": 34,
     "metadata": {},
     "output_type": "execute_result"
    }
   ],
   "source": [
    "dummies=np.zeros((x_test.shape[0],lookback+1))\n",
    "dummies[:,0]=y_test.flatten()\n",
    "dummies=scalar.inverse_transform(dummies)\n",
    "new_y_test=dc(dummies[:,0])\n",
    "new_y_test"
   ]
  },
  {
   "cell_type": "code",
   "execution_count": null,
   "metadata": {},
   "outputs": [
    {
     "data": {
      "image/png": "[encoded data removed]",
      "text/plain": [
       "<Figure size 640x480 with 1 Axes>"
      ]
     },
     "metadata": {},
     "output_type": "display_data"
    }
   ],
   "source": [
    "plt.plot(new_y_test,label=\"Actual\")\n",
    "plt.plot(test_prediction,label='predicted')\n",
    "plt.xlabel(\"Time\")\n",
    "plt.ylabel(\"Close\")\n",
    "plt.legend()\n",
    "plt.show()"
   ]
  },
  {
   "cell_type": "code",
   "execution_count": null,
   "metadata": {},
   "outputs": [],
   "source": [
    "torch.cuda.empty_cache()"
   ]
  }
 ],
 "metadata": {
  "kernelspec": {
   "display_name": "Python 3",
   "language": "python",
   "name": "python3"
  },
  "language_info": {
   "codemirror_mode": {
    "name": "ipython",
    "version": 3
   },
   "file_extension": ".py",
   "mimetype": "text/x-python",
   "name": "python",
   "nbconvert_exporter": "python",
   "pygments_lexer": "ipython3",
   "version": "3.9.17"
  },
  "orig_nbformat": 4
 },
 "nbformat": 4,
 "nbformat_minor": 2
}
